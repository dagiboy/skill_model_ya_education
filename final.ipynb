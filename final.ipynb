{
 "cells": [
  {
   "cell_type": "markdown",
   "id": "ec102542-9cc4-46b7-b935-ac6d878dcabd",
   "metadata": {},
   "source": [
    "# Модель освоения навыков в Яндекс учебнике\n",
    "\n",
    "Есть информация по решению задач учениками, таблица соотвествия задачи и навыка, а также граф навыков.\n",
    "Требуется ответить на следующие вопросы:\n",
    "1. Можно ли предсказать вероятность решения задачи учеником?\n",
    "2. На сколько полезен граф навыков в решении 1го вопроса?"
   ]
  },
  {
   "cell_type": "code",
   "execution_count": 1,
   "id": "e71b7897-d038-404e-a86a-3787585f1a3c",
   "metadata": {},
   "outputs": [],
   "source": [
    "import pandas as pd\n",
    "import numpy as np\n",
    "\n",
    "import matplotlib.pyplot as plt\n",
    "import seaborn as sns\n",
    "\n",
    "import torch\n",
    "from torch import nn\n",
    "\n",
    "from catboost import CatBoostClassifier\n",
    "\n",
    "from sklearn.metrics import roc_curve, auc, precision_score, recall_score, accuracy_score, \\\n",
    "        PrecisionRecallDisplay, average_precision_score, precision_recall_curve\n",
    "from sklearn.utils import shuffle\n",
    "from sklearn.linear_model import SGDClassifier\n",
    "from sklearn.preprocessing import StandardScaler\n",
    "from sklearn.pipeline import make_pipeline\n",
    "from sklearn.ensemble import RandomForestClassifier\n",
    "\n",
    "import json\n",
    "from networkx.readwrite import json_graph\n",
    "import networkx as nx\n",
    "\n",
    "from tqdm.notebook import tqdm, trange"
   ]
  },
  {
   "cell_type": "markdown",
   "id": "580d13b6-a84d-45e6-bf1c-467d7de3b3ca",
   "metadata": {},
   "source": [
    "## Обработка данных\n",
    "### Чтение и обработка информации о решении задач"
   ]
  },
  {
   "cell_type": "code",
   "execution_count": 2,
   "id": "0022f277-9cf7-4fe5-a3ef-a3a3ee3de463",
   "metadata": {},
   "outputs": [
    {
     "name": "stdout",
     "output_type": "stream",
     "text": [
      "CPU times: user 2min 15s, sys: 1.66 s, total: 2min 16s\n",
      "Wall time: 2min 16s\n"
     ]
    }
   ],
   "source": [
    "%%time\n",
    "date_cols = ['attempts_date_created', 'cl_date_assignment', 'cls_date_created']\n",
    "df = pd.read_csv('wide_math.csv', parse_dates=date_cols, index_col=0)"
   ]
  },
  {
   "cell_type": "code",
   "execution_count": 3,
   "id": "890f7cab-871d-4d07-a6f5-b69d47096de9",
   "metadata": {},
   "outputs": [
    {
     "name": "stdout",
     "output_type": "stream",
     "text": [
      "(5645888, 13)\n"
     ]
    },
    {
     "data": {
      "text/html": [
       "<div>\n",
       "<style scoped>\n",
       "    .dataframe tbody tr th:only-of-type {\n",
       "        vertical-align: middle;\n",
       "    }\n",
       "\n",
       "    .dataframe tbody tr th {\n",
       "        vertical-align: top;\n",
       "    }\n",
       "\n",
       "    .dataframe thead th {\n",
       "        text-align: right;\n",
       "    }\n",
       "</style>\n",
       "<table border=\"1\" class=\"dataframe\">\n",
       "  <thead>\n",
       "    <tr style=\"text-align: right;\">\n",
       "      <th></th>\n",
       "      <th>assignment_level</th>\n",
       "      <th>attempts_date_created</th>\n",
       "      <th>cl_date_assignment</th>\n",
       "      <th>cl_id</th>\n",
       "      <th>cls_date_created</th>\n",
       "      <th>cls_student_id</th>\n",
       "      <th>course_id</th>\n",
       "      <th>is_solved</th>\n",
       "      <th>problem_id</th>\n",
       "      <th>subject_slug</th>\n",
       "      <th>team_id</th>\n",
       "      <th>team_level</th>\n",
       "      <th>tp_teacher_id</th>\n",
       "    </tr>\n",
       "  </thead>\n",
       "  <tbody>\n",
       "    <tr>\n",
       "      <th>0</th>\n",
       "      <td>3</td>\n",
       "      <td>2022-03-08 11:02:37+03:00</td>\n",
       "      <td>2022-03-05 13:00:00+03:00</td>\n",
       "      <td>71374307</td>\n",
       "      <td>2022-03-08 10:52:43+03:00</td>\n",
       "      <td>1650006</td>\n",
       "      <td>5096626</td>\n",
       "      <td>1</td>\n",
       "      <td>97304</td>\n",
       "      <td>mathematics</td>\n",
       "      <td>82516</td>\n",
       "      <td>4</td>\n",
       "      <td>520541</td>\n",
       "    </tr>\n",
       "    <tr>\n",
       "      <th>1</th>\n",
       "      <td>3</td>\n",
       "      <td>2022-03-08 11:02:49+03:00</td>\n",
       "      <td>2021-09-02 14:23:50+03:00</td>\n",
       "      <td>70879797</td>\n",
       "      <td>2022-03-08 11:02:08+03:00</td>\n",
       "      <td>1494142</td>\n",
       "      <td>5099807</td>\n",
       "      <td>1</td>\n",
       "      <td>227546</td>\n",
       "      <td>mathematics</td>\n",
       "      <td>69290</td>\n",
       "      <td>4</td>\n",
       "      <td>615530</td>\n",
       "    </tr>\n",
       "  </tbody>\n",
       "</table>\n",
       "</div>"
      ],
      "text/plain": [
       "   assignment_level     attempts_date_created        cl_date_assignment  \\\n",
       "0                 3 2022-03-08 11:02:37+03:00 2022-03-05 13:00:00+03:00   \n",
       "1                 3 2022-03-08 11:02:49+03:00 2021-09-02 14:23:50+03:00   \n",
       "\n",
       "      cl_id          cls_date_created  cls_student_id  course_id  is_solved  \\\n",
       "0  71374307 2022-03-08 10:52:43+03:00         1650006    5096626          1   \n",
       "1  70879797 2022-03-08 11:02:08+03:00         1494142    5099807          1   \n",
       "\n",
       "   problem_id subject_slug  team_id  team_level  tp_teacher_id  \n",
       "0       97304  mathematics    82516           4         520541  \n",
       "1      227546  mathematics    69290           4         615530  "
      ]
     },
     "execution_count": 3,
     "metadata": {},
     "output_type": "execute_result"
    }
   ],
   "source": [
    "print(df.shape)\n",
    "df.head(2)"
   ]
  },
  {
   "cell_type": "code",
   "execution_count": 4,
   "id": "e1530832-f4b2-4024-be60-8bd979bdebcf",
   "metadata": {},
   "outputs": [],
   "source": [
    "df['execution_time'] = df['attempts_date_created'] - df['cls_date_created']\n",
    "df['execution_time'] = df['execution_time'].dt.total_seconds()\n",
    "df = df[['cls_student_id', 'problem_id', 'assignment_level',\n",
    "       'attempts_date_created', 'is_solved', 'execution_time']]"
   ]
  },
  {
   "cell_type": "markdown",
   "id": "1cda4035-870d-4a61-ab18-5ac4b84d83cf",
   "metadata": {},
   "source": [
    "#### Чтение и обработка информации о задачах"
   ]
  },
  {
   "cell_type": "code",
   "execution_count": 6,
   "id": "6bf0d17a-7a4c-414a-8057-e924adffd451",
   "metadata": {},
   "outputs": [],
   "source": [
    "skill_info = pd.read_excel('markup_math.xlsx', index_col=0)\n",
    "skills = set(skill_info['skills'])"
   ]
  },
  {
   "cell_type": "code",
   "execution_count": 7,
   "id": "2fc56be0-09da-4aba-b2b5-0aa5e0610b39",
   "metadata": {},
   "outputs": [
    {
     "name": "stdout",
     "output_type": "stream",
     "text": [
      "(4639383, 6)\n"
     ]
    },
    {
     "data": {
      "text/html": [
       "<div>\n",
       "<style scoped>\n",
       "    .dataframe tbody tr th:only-of-type {\n",
       "        vertical-align: middle;\n",
       "    }\n",
       "\n",
       "    .dataframe tbody tr th {\n",
       "        vertical-align: top;\n",
       "    }\n",
       "\n",
       "    .dataframe thead th {\n",
       "        text-align: right;\n",
       "    }\n",
       "</style>\n",
       "<table border=\"1\" class=\"dataframe\">\n",
       "  <thead>\n",
       "    <tr style=\"text-align: right;\">\n",
       "      <th></th>\n",
       "      <th>cls_student_id</th>\n",
       "      <th>problem_id</th>\n",
       "      <th>assignment_level</th>\n",
       "      <th>attempts_date_created</th>\n",
       "      <th>is_solved</th>\n",
       "      <th>execution_time</th>\n",
       "    </tr>\n",
       "  </thead>\n",
       "  <tbody>\n",
       "    <tr>\n",
       "      <th>0</th>\n",
       "      <td>1650006</td>\n",
       "      <td>97304</td>\n",
       "      <td>3</td>\n",
       "      <td>2022-03-08 11:02:37+03:00</td>\n",
       "      <td>1</td>\n",
       "      <td>594.0</td>\n",
       "    </tr>\n",
       "    <tr>\n",
       "      <th>1</th>\n",
       "      <td>1494142</td>\n",
       "      <td>227546</td>\n",
       "      <td>3</td>\n",
       "      <td>2022-03-08 11:02:49+03:00</td>\n",
       "      <td>1</td>\n",
       "      <td>41.0</td>\n",
       "    </tr>\n",
       "  </tbody>\n",
       "</table>\n",
       "</div>"
      ],
      "text/plain": [
       "   cls_student_id  problem_id  assignment_level     attempts_date_created  \\\n",
       "0         1650006       97304                 3 2022-03-08 11:02:37+03:00   \n",
       "1         1494142      227546                 3 2022-03-08 11:02:49+03:00   \n",
       "\n",
       "   is_solved  execution_time  \n",
       "0          1           594.0  \n",
       "1          1            41.0  "
      ]
     },
     "execution_count": 7,
     "metadata": {},
     "output_type": "execute_result"
    }
   ],
   "source": [
    "problems_has_themes = set(skill_info['problem_id'])\n",
    "df = df[df['problem_id'].apply(lambda x: x in problems_has_themes)]\n",
    "df = df.reset_index(drop=True)\n",
    "print(df.shape)\n",
    "df.head(2)"
   ]
  },
  {
   "cell_type": "markdown",
   "id": "81f1e1a1-bb17-4491-9b75-ca8472df7e69",
   "metadata": {},
   "source": [
    "#### Определение функций для разделения данных и просчёту метрик"
   ]
  },
  {
   "cell_type": "code",
   "execution_count": 8,
   "id": "9685f172-a081-4472-8cad-ab6babd4cfbc",
   "metadata": {},
   "outputs": [],
   "source": [
    "def get_train_test(df):\n",
    "    df = shuffle(df, random_state=0)\n",
    "    \n",
    "    med_date = df['attempts_date_created'].median()\n",
    "    med_user = df['cls_student_id'].median()\n",
    "    \n",
    "    test_index = (df['cls_student_id'] > med_user) & (df['attempts_date_created'] > med_date)\n",
    "    train_index = ~test_index\n",
    "    \n",
    "    df_train = df[train_index]\n",
    "    df_test = df[test_index]\n",
    "    \n",
    "    train_problems = set(df_train['problem_id'])\n",
    "    train_students = set(df_train['cls_student_id'])\n",
    "    \n",
    "    df_test = df_test[df_test['problem_id'].apply(lambda x: x in train_problems)]\n",
    "    df_test = df_test[df_test['cls_student_id'].apply(lambda x: x in train_students)]\n",
    "    \n",
    "    return df_train, df_test"
   ]
  },
  {
   "cell_type": "code",
   "execution_count": 9,
   "id": "b625c60d-f549-4bf9-9eda-d2afd604061b",
   "metadata": {},
   "outputs": [],
   "source": [
    "def get_metrics(target, pred, pred_score):\n",
    "    result = {\n",
    "        \"precision\":0,\n",
    "        \"recall\": 0,\n",
    "        \"acc\": 0,\n",
    "        \"roc_auc\": 0, \n",
    "        \"ap\": 0,\n",
    "        \"roc1\" : [],\n",
    "        \"roc2\" : [],\n",
    "        \"pr1\" : [], \n",
    "        \"pr2\" : [],\n",
    "    }\n",
    "    \n",
    "    result['precision'] = precision_score(target, pred)\n",
    "    result['recall'] = recall_score(target, pred)\n",
    "    result['acc'] = accuracy_score(target, pred)\n",
    "    result['roc1'], result['roc2'], _ = roc_curve(target, pred_score)\n",
    "    result['roc_auc'] = auc(result['roc1'], result['roc2'])\n",
    "    result['pr1'], result['pr2'], _ = precision_recall_curve(target, pred_score)\n",
    "    result['ap'] = average_precision_score(target, pred_score)\n",
    "    \n",
    "    return result"
   ]
  },
  {
   "cell_type": "code",
   "execution_count": 13,
   "id": "b885b826-fcb6-4b92-b3c1-d2f808f025b6",
   "metadata": {},
   "outputs": [],
   "source": [
    "all_model_info = dict()\n",
    "\n",
    "def get_info():\n",
    "    a = pd.DataFrame.from_dict(all_model_info.values())\n",
    "    a.index = list(all_model_info.keys())\n",
    "    return a[['acc', 'roc_auc', 'ap', 'precision', 'recall']]"
   ]
  },
  {
   "cell_type": "code",
   "execution_count": 11,
   "id": "d949fdd1-47e8-4d14-be2d-b5e8257f7595",
   "metadata": {},
   "outputs": [],
   "source": [
    "df_train, df_test = get_train_test(df)"
   ]
  },
  {
   "cell_type": "code",
   "execution_count": 12,
   "id": "97033f9e-af80-4c0f-9ebb-d84282b001ab",
   "metadata": {},
   "outputs": [],
   "source": [
    "X_train, y_train = df_train.drop(['is_solved'], axis=1), df_train['is_solved']\n",
    "X_test, y_test = df_test.drop(['is_solved'], axis=1), df_test['is_solved']"
   ]
  },
  {
   "cell_type": "markdown",
   "id": "972a5ca0-e793-447d-9369-1c90c415c587",
   "metadata": {},
   "source": [
    "#### Константная модель"
   ]
  },
  {
   "cell_type": "code",
   "execution_count": 10,
   "id": "60ef9ae0-7ba8-4e67-801c-54229879f419",
   "metadata": {},
   "outputs": [],
   "source": [
    "class ConstModel:\n",
    "    def fit(self, X, y):\n",
    "        return self\n",
    "    \n",
    "    def predict(self, X):\n",
    "        return np.ones(X.shape[0])"
   ]
  },
  {
   "cell_type": "code",
   "execution_count": 14,
   "id": "51d01e72-7876-4a99-8dfa-cd2a53403641",
   "metadata": {},
   "outputs": [
    {
     "data": {
      "text/html": [
       "<div>\n",
       "<style scoped>\n",
       "    .dataframe tbody tr th:only-of-type {\n",
       "        vertical-align: middle;\n",
       "    }\n",
       "\n",
       "    .dataframe tbody tr th {\n",
       "        vertical-align: top;\n",
       "    }\n",
       "\n",
       "    .dataframe thead th {\n",
       "        text-align: right;\n",
       "    }\n",
       "</style>\n",
       "<table border=\"1\" class=\"dataframe\">\n",
       "  <thead>\n",
       "    <tr style=\"text-align: right;\">\n",
       "      <th></th>\n",
       "      <th>acc</th>\n",
       "      <th>roc_auc</th>\n",
       "      <th>ap</th>\n",
       "      <th>precision</th>\n",
       "      <th>recall</th>\n",
       "    </tr>\n",
       "  </thead>\n",
       "  <tbody>\n",
       "    <tr>\n",
       "      <th>const</th>\n",
       "      <td>0.595775</td>\n",
       "      <td>0.5</td>\n",
       "      <td>0.595775</td>\n",
       "      <td>0.595775</td>\n",
       "      <td>1.0</td>\n",
       "    </tr>\n",
       "  </tbody>\n",
       "</table>\n",
       "</div>"
      ],
      "text/plain": [
       "            acc  roc_auc        ap  precision  recall\n",
       "const  0.595775      0.5  0.595775   0.595775     1.0"
      ]
     },
     "execution_count": 14,
     "metadata": {},
     "output_type": "execute_result"
    }
   ],
   "source": [
    "const_model = ConstModel()\n",
    "pred = const_model.predict(X_test)\n",
    "all_model_info['const'] = get_metrics(y_test, pred, pred)\n",
    "get_info()"
   ]
  },
  {
   "cell_type": "markdown",
   "id": "dfd4fb48-95d0-4d28-a7b2-2bdf31f2851a",
   "metadata": {},
   "source": [
    "#### Обычная линейная модель с эмбедингами"
   ]
  },
  {
   "cell_type": "code",
   "execution_count": 15,
   "id": "e84859e7-ee31-4e53-ad92-c1bf79ce3787",
   "metadata": {},
   "outputs": [],
   "source": [
    "class LinModel(nn.Module):\n",
    "    def __init__(self, n_students, n_problems, emb_size=128):\n",
    "        super().__init__()\n",
    "        \n",
    "        self.n_students = n_students\n",
    "        self.n_problems = n_problems\n",
    "        \n",
    "        self.stud_embed = nn.Embedding(n_students, emb_size)\n",
    "        self.problem_embed = nn.Embedding(n_problems, emb_size)\n",
    "        self.head = nn.Sequential(\n",
    "            nn.Linear(emb_size * 2, emb_size),\n",
    "            nn.Tanh(),\n",
    "            nn.Linear(emb_size, 2),\n",
    "            nn.Softmax(dim=-1),\n",
    "        )\n",
    "        \n",
    "        self.problem_to_index = None\n",
    "        self.st_to_index = None\n",
    "        \n",
    "    def forward(self, X):\n",
    "        problems = X[:, 0]\n",
    "        students = X[:, 1]\n",
    "        \n",
    "        problems = self.problem_embed(problems)\n",
    "        students = self.stud_embed(students)\n",
    "        \n",
    "        x = torch.cat((students, problems), dim=-1)    \n",
    "        return self.head(x)\n",
    "    \n",
    "    def convert_X(self, X):\n",
    "        X = X.copy()\n",
    "        X['cls_student_id'] = X['cls_student_id'].apply(lambda x: self.st_to_index[x])\n",
    "        X['problem_id'] = X['problem_id'].apply(lambda x: self.problem_to_index[x])\n",
    "        \n",
    "        return X[['problem_id', 'cls_student_id']].to_numpy()\n",
    "    \n",
    "    def fit(self, X, y, optimizer, criterion, device, epochs=101):\n",
    "        students_set = set(X['cls_student_id'])\n",
    "        problems_set = set(X['problem_id'])\n",
    "        assert len(students_set) == self.n_students\n",
    "        assert len(problems_set) == self.n_problems\n",
    "        \n",
    "        self.problem_to_index = {pr_id: i for i, pr_id in enumerate(problems_set)}\n",
    "        self.st_to_index = {st_id: i for i, st_id in enumerate(students_set)}\n",
    "        \n",
    "        X = self.convert_X(X)\n",
    "        X = torch.IntTensor(X).to(device)\n",
    "        y = torch.LongTensor(y).to(device)\n",
    "        \n",
    "        for epoch in trange(epochs):\n",
    "            y_pred = self(X)\n",
    "            loss = criterion(y_pred, y)\n",
    "            \n",
    "            optimizer.zero_grad()\n",
    "            loss.backward()\n",
    "            optimizer.step()\n",
    "            \n",
    "            if (epoch + 1) % (epochs / 10) == 0:\n",
    "                print(f\"epoch: {epoch:02}, loss: {loss.item():.3}\")\n",
    "            \n",
    "    @torch.no_grad()\n",
    "    def predict_proba(self, X, device):\n",
    "        X = self.convert_X(X)\n",
    "        X = torch.IntTensor(X).to(device)\n",
    "        \n",
    "        return self(X).cpu().numpy()\n",
    "                \n",
    "    def predict(self, X, device):\n",
    "        proba = self.predict_proba(X, device)\n",
    "        return np.argmax(proba, axis=-1)"
   ]
  },
  {
   "cell_type": "code",
   "execution_count": 16,
   "id": "16ed8100-6f1b-4cda-b682-9e9dbf28c59a",
   "metadata": {},
   "outputs": [],
   "source": [
    "problems = set(X_train['problem_id'])\n",
    "students = set(X_train['cls_student_id'])\n",
    "\n",
    "assert not set(X_test['problem_id']).difference(problems)\n",
    "assert not set(X_test['cls_student_id']).difference(students)"
   ]
  },
  {
   "cell_type": "code",
   "execution_count": 17,
   "id": "f1440081-730d-410d-89c7-a85f096f28d3",
   "metadata": {},
   "outputs": [],
   "source": [
    "device = 'cuda'\n",
    "lin_model = LinModel(len(students), len(problems)).to(device)\n",
    "optimizer = torch.optim.Adam(lin_model.parameters())\n",
    "criterion = nn.CrossEntropyLoss()"
   ]
  },
  {
   "cell_type": "code",
   "execution_count": 18,
   "id": "3d1f94ff-170a-4e9c-8401-bcc2bafe4645",
   "metadata": {},
   "outputs": [
    {
     "data": {
      "application/vnd.jupyter.widget-view+json": {
       "model_id": "06b4a22295bc4cb18aa59a46b405e719",
       "version_major": 2,
       "version_minor": 0
      },
      "text/plain": [
       "  0%|          | 0/200 [00:00<?, ?it/s]"
      ]
     },
     "metadata": {},
     "output_type": "display_data"
    },
    {
     "name": "stdout",
     "output_type": "stream",
     "text": [
      "epoch: 19, loss: 0.663\n",
      "epoch: 39, loss: 0.636\n",
      "epoch: 59, loss: 0.611\n",
      "epoch: 79, loss: 0.59\n",
      "epoch: 99, loss: 0.574\n",
      "epoch: 119, loss: 0.562\n",
      "epoch: 139, loss: 0.553\n",
      "epoch: 159, loss: 0.547\n",
      "epoch: 179, loss: 0.543\n",
      "epoch: 199, loss: 0.54\n"
     ]
    }
   ],
   "source": [
    "lin_model.fit(X_train, y_train.to_numpy(), optimizer, criterion, device, epochs=200)"
   ]
  },
  {
   "cell_type": "code",
   "execution_count": 19,
   "id": "7db23404-8cf0-44d4-9073-01d76b185686",
   "metadata": {},
   "outputs": [
    {
     "data": {
      "text/html": [
       "<div>\n",
       "<style scoped>\n",
       "    .dataframe tbody tr th:only-of-type {\n",
       "        vertical-align: middle;\n",
       "    }\n",
       "\n",
       "    .dataframe tbody tr th {\n",
       "        vertical-align: top;\n",
       "    }\n",
       "\n",
       "    .dataframe thead th {\n",
       "        text-align: right;\n",
       "    }\n",
       "</style>\n",
       "<table border=\"1\" class=\"dataframe\">\n",
       "  <thead>\n",
       "    <tr style=\"text-align: right;\">\n",
       "      <th></th>\n",
       "      <th>acc</th>\n",
       "      <th>roc_auc</th>\n",
       "      <th>ap</th>\n",
       "      <th>precision</th>\n",
       "      <th>recall</th>\n",
       "    </tr>\n",
       "  </thead>\n",
       "  <tbody>\n",
       "    <tr>\n",
       "      <th>const</th>\n",
       "      <td>0.595775</td>\n",
       "      <td>0.500000</td>\n",
       "      <td>0.595775</td>\n",
       "      <td>0.595775</td>\n",
       "      <td>1.000000</td>\n",
       "    </tr>\n",
       "    <tr>\n",
       "      <th>lin_model</th>\n",
       "      <td>0.707778</td>\n",
       "      <td>0.756269</td>\n",
       "      <td>0.801462</td>\n",
       "      <td>0.724790</td>\n",
       "      <td>0.821406</td>\n",
       "    </tr>\n",
       "  </tbody>\n",
       "</table>\n",
       "</div>"
      ],
      "text/plain": [
       "                acc   roc_auc        ap  precision    recall\n",
       "const      0.595775  0.500000  0.595775   0.595775  1.000000\n",
       "lin_model  0.707778  0.756269  0.801462   0.724790  0.821406"
      ]
     },
     "execution_count": 19,
     "metadata": {},
     "output_type": "execute_result"
    }
   ],
   "source": [
    "pred_proba = lin_model.predict_proba(X_test, device)\n",
    "pred = lin_model.predict(X_test, device)\n",
    "all_model_info['lin_model'] = get_metrics(y_test, pred, pred_proba[:, 1])\n",
    "get_info()"
   ]
  },
  {
   "cell_type": "markdown",
   "id": "a6dff65f-feb4-4fc1-af3e-ced6b84c2f37",
   "metadata": {},
   "source": [
    "#### Попытка реализовать ALS"
   ]
  },
  {
   "cell_type": "code",
   "execution_count": 20,
   "id": "29fdb970-ac49-4bf2-9a47-78e1b1185ebc",
   "metadata": {},
   "outputs": [],
   "source": [
    "class AlsModel(nn.Module):\n",
    "    def __init__(self, n_students, n_problems, emb_size=128):\n",
    "        super().__init__()\n",
    "        \n",
    "        self.n_students = n_students\n",
    "        self.n_problems = n_problems\n",
    "        \n",
    "        self.stud_embed = nn.Embedding(n_students, emb_size, max_norm=1/emb_size**0.5)\n",
    "        self.problem_embed = nn.Embedding(n_problems, emb_size, max_norm=1/emb_size**0.5)\n",
    "        \n",
    "        self.problem_to_index = None\n",
    "        self.st_to_index = None\n",
    "        \n",
    "    def forward(self, X):\n",
    "        problems = X[:, 0]\n",
    "        students = X[:, 1]\n",
    "        \n",
    "        problems = self.problem_embed(problems)\n",
    "        students = self.stud_embed(students)\n",
    "          \n",
    "        return torch.sigmoid((problems * students).sum(dim=-1))\n",
    "    \n",
    "    def convert_X(self, X):\n",
    "        X = X.copy()\n",
    "        X['cls_student_id'] = X['cls_student_id'].apply(lambda x: self.st_to_index[x])\n",
    "        X['problem_id'] = X['problem_id'].apply(lambda x: self.problem_to_index[x])\n",
    "        \n",
    "        return X[['problem_id', 'cls_student_id']].to_numpy()\n",
    "    \n",
    "    def fit(self, X, y, optimizer_stud, optimizer_problem, criterion, device, epochs=101):\n",
    "        students_set = set(X['cls_student_id'])\n",
    "        problems_set = set(X['problem_id'])\n",
    "        assert len(students_set) == self.n_students\n",
    "        assert len(problems_set) == self.n_problems\n",
    "        \n",
    "        self.problem_to_index = {pr_id: i for i, pr_id in enumerate(problems_set)}\n",
    "        self.st_to_index = {st_id: i for i, st_id in enumerate(students_set)}\n",
    "        \n",
    "        X = self.convert_X(X)\n",
    "        X = torch.IntTensor(X).to(device)\n",
    "        y = torch.Tensor(y).to(device)\n",
    "        \n",
    "        for epoch in trange(epochs):\n",
    "            y_pred = self(X)\n",
    "            loss = criterion(y_pred, y)\n",
    "            \n",
    "            optimizer_stud.zero_grad()\n",
    "            loss.backward()\n",
    "            optimizer_stud.step()\n",
    "            \n",
    "            y_pred = self(X)\n",
    "            loss = criterion(y_pred, y)\n",
    "            \n",
    "            optimizer_problem.zero_grad()\n",
    "            loss.backward()\n",
    "            optimizer_problem.step()\n",
    "            \n",
    "            if (epoch + 1) % (epochs / 10) == 0:\n",
    "                print(f\"epoch: {epoch:02}, loss: {loss.item():.3}\")\n",
    "            \n",
    "    @torch.no_grad()\n",
    "    def predict_proba(self, X, device):\n",
    "        X = self.convert_X(X)\n",
    "        X = torch.IntTensor(X).to(device)\n",
    "        \n",
    "        return self(X).cpu().numpy()\n",
    "                \n",
    "    def predict(self, X, device):\n",
    "        proba = self.predict_proba(X, device)\n",
    "        return proba > 0.5"
   ]
  },
  {
   "cell_type": "code",
   "execution_count": 21,
   "id": "76d7ed6e-3c72-47c8-bad7-fb2971d46cce",
   "metadata": {},
   "outputs": [],
   "source": [
    "device = 'cuda'\n",
    "als_model = AlsModel(len(students), len(problems)).to(device)\n",
    "optimizer_stud = torch.optim.Adam(lin_model.stud_embed.parameters())\n",
    "optimizer_problem = torch.optim.Adam(lin_model.problem_embed.parameters())\n",
    "criterion = nn.L1Loss()"
   ]
  },
  {
   "cell_type": "code",
   "execution_count": 22,
   "id": "71de4364-0ccf-4c85-81b2-c920fd6a5bc9",
   "metadata": {},
   "outputs": [
    {
     "data": {
      "application/vnd.jupyter.widget-view+json": {
       "model_id": "843d26b599b142ae9cb8e12cc8fb2a17",
       "version_major": 2,
       "version_minor": 0
      },
      "text/plain": [
       "  0%|          | 0/100 [00:00<?, ?it/s]"
      ]
     },
     "metadata": {},
     "output_type": "display_data"
    },
    {
     "name": "stdout",
     "output_type": "stream",
     "text": [
      "epoch: 09, loss: 0.5\n",
      "epoch: 19, loss: 0.5\n",
      "epoch: 29, loss: 0.5\n",
      "epoch: 39, loss: 0.5\n",
      "epoch: 49, loss: 0.5\n",
      "epoch: 59, loss: 0.5\n",
      "epoch: 69, loss: 0.5\n",
      "epoch: 79, loss: 0.5\n",
      "epoch: 89, loss: 0.5\n",
      "epoch: 99, loss: 0.5\n"
     ]
    }
   ],
   "source": [
    "als_model.fit(X_train, y_train.to_numpy(), optimizer_stud, optimizer_problem, criterion, device, epochs=100)"
   ]
  },
  {
   "cell_type": "code",
   "execution_count": 23,
   "id": "fc14f2e9-2c81-490b-a801-d188b62ab781",
   "metadata": {},
   "outputs": [
    {
     "data": {
      "text/html": [
       "<div>\n",
       "<style scoped>\n",
       "    .dataframe tbody tr th:only-of-type {\n",
       "        vertical-align: middle;\n",
       "    }\n",
       "\n",
       "    .dataframe tbody tr th {\n",
       "        vertical-align: top;\n",
       "    }\n",
       "\n",
       "    .dataframe thead th {\n",
       "        text-align: right;\n",
       "    }\n",
       "</style>\n",
       "<table border=\"1\" class=\"dataframe\">\n",
       "  <thead>\n",
       "    <tr style=\"text-align: right;\">\n",
       "      <th></th>\n",
       "      <th>acc</th>\n",
       "      <th>roc_auc</th>\n",
       "      <th>ap</th>\n",
       "      <th>precision</th>\n",
       "      <th>recall</th>\n",
       "    </tr>\n",
       "  </thead>\n",
       "  <tbody>\n",
       "    <tr>\n",
       "      <th>const</th>\n",
       "      <td>0.595775</td>\n",
       "      <td>0.500000</td>\n",
       "      <td>0.595775</td>\n",
       "      <td>0.595775</td>\n",
       "      <td>1.000000</td>\n",
       "    </tr>\n",
       "    <tr>\n",
       "      <th>lin_model</th>\n",
       "      <td>0.707778</td>\n",
       "      <td>0.756269</td>\n",
       "      <td>0.801462</td>\n",
       "      <td>0.724790</td>\n",
       "      <td>0.821406</td>\n",
       "    </tr>\n",
       "    <tr>\n",
       "      <th>als_model</th>\n",
       "      <td>0.499735</td>\n",
       "      <td>0.499208</td>\n",
       "      <td>0.594793</td>\n",
       "      <td>0.595444</td>\n",
       "      <td>0.500069</td>\n",
       "    </tr>\n",
       "  </tbody>\n",
       "</table>\n",
       "</div>"
      ],
      "text/plain": [
       "                acc   roc_auc        ap  precision    recall\n",
       "const      0.595775  0.500000  0.595775   0.595775  1.000000\n",
       "lin_model  0.707778  0.756269  0.801462   0.724790  0.821406\n",
       "als_model  0.499735  0.499208  0.594793   0.595444  0.500069"
      ]
     },
     "execution_count": 23,
     "metadata": {},
     "output_type": "execute_result"
    }
   ],
   "source": [
    "pred_proba = als_model.predict_proba(X_test, device)\n",
    "pred = als_model.predict(X_test, device)\n",
    "all_model_info['als_model'] = get_metrics(y_test, pred, pred_proba)\n",
    "get_info()"
   ]
  },
  {
   "cell_type": "markdown",
   "id": "44d9c3d9-0565-4380-a6da-eadf70fe60ae",
   "metadata": {},
   "source": [
    "#### Добавляем информацию о каждом пользователе и задаче"
   ]
  },
  {
   "cell_type": "code",
   "execution_count": 24,
   "id": "0f927d27-1a05-4582-836d-9980030b0895",
   "metadata": {},
   "outputs": [
    {
     "data": {
      "text/html": [
       "<div>\n",
       "<style scoped>\n",
       "    .dataframe tbody tr th:only-of-type {\n",
       "        vertical-align: middle;\n",
       "    }\n",
       "\n",
       "    .dataframe tbody tr th {\n",
       "        vertical-align: top;\n",
       "    }\n",
       "\n",
       "    .dataframe thead th {\n",
       "        text-align: right;\n",
       "    }\n",
       "</style>\n",
       "<table border=\"1\" class=\"dataframe\">\n",
       "  <thead>\n",
       "    <tr style=\"text-align: right;\">\n",
       "      <th></th>\n",
       "      <th>mean_problem_solved</th>\n",
       "      <th>execution_time</th>\n",
       "      <th>difficulty</th>\n",
       "      <th>has_diff_info</th>\n",
       "    </tr>\n",
       "    <tr>\n",
       "      <th>problem_id</th>\n",
       "      <th></th>\n",
       "      <th></th>\n",
       "      <th></th>\n",
       "      <th></th>\n",
       "    </tr>\n",
       "  </thead>\n",
       "  <tbody>\n",
       "    <tr>\n",
       "      <th>31964</th>\n",
       "      <td>0.666667</td>\n",
       "      <td>417.0</td>\n",
       "      <td>0.336907</td>\n",
       "      <td>0</td>\n",
       "    </tr>\n",
       "    <tr>\n",
       "      <th>31980</th>\n",
       "      <td>0.695652</td>\n",
       "      <td>71.0</td>\n",
       "      <td>0.079576</td>\n",
       "      <td>0</td>\n",
       "    </tr>\n",
       "    <tr>\n",
       "      <th>31988</th>\n",
       "      <td>0.558140</td>\n",
       "      <td>1345.5</td>\n",
       "      <td>0.409384</td>\n",
       "      <td>0</td>\n",
       "    </tr>\n",
       "  </tbody>\n",
       "</table>\n",
       "</div>"
      ],
      "text/plain": [
       "            mean_problem_solved  execution_time  difficulty  has_diff_info\n",
       "problem_id                                                                \n",
       "31964                  0.666667           417.0    0.336907              0\n",
       "31980                  0.695652            71.0    0.079576              0\n",
       "31988                  0.558140          1345.5    0.409384              0"
      ]
     },
     "execution_count": 24,
     "metadata": {},
     "output_type": "execute_result"
    }
   ],
   "source": [
    "problem_info = df_train.groupby(by=['problem_id'])[['is_solved']].mean()\n",
    "problem_info.columns = ['mean_problem_solved']\n",
    "students_info = df_train.groupby(by=['cls_student_id'])[['is_solved']].mean()\n",
    "students_info.columns = ['mean_student_solved']\n",
    "problem_info['execution_time'] = df_train.groupby(by=['problem_id'])['execution_time'].median()\n",
    "students_info['execution_time'] = df_train.groupby(by=['cls_student_id'])['execution_time'].median()\n",
    "\n",
    "difficulty_math = pd.read_excel('ctt_simple.xlsx')\n",
    "difficulty_math = difficulty_math[1:]\n",
    "difficulty_math['problem_id'] = difficulty_math['problem_id'].astype(int)\n",
    "difficulty_math = difficulty_math.set_index(['problem_id'])\n",
    "difficulty_math['difficulty'] = difficulty_math['difficulty'].astype(float)\n",
    "difficulty_math = difficulty_math.groupby(by='problem_id')['difficulty'].mean()\n",
    "difficulty_math.head()\n",
    "\n",
    "problem_info = problem_info.join(difficulty_math)\n",
    "problem_info['has_diff_info'] = ((problem_info['difficulty'].isna()) | (problem_info['difficulty'] == 0)).astype(int)\n",
    "problem_info['difficulty'] = problem_info['difficulty'].fillna(0)\n",
    "problem_info.head(3)"
   ]
  },
  {
   "cell_type": "code",
   "execution_count": 25,
   "id": "bec2eeae-fcec-4377-b858-006b4561ae8c",
   "metadata": {},
   "outputs": [],
   "source": [
    "df = df.join(problem_info, on='problem_id', rsuffix='_problem')\n",
    "df = df.join(students_info, on='cls_student_id', rsuffix='_student')"
   ]
  },
  {
   "cell_type": "code",
   "execution_count": 26,
   "id": "6c834ce5-36d5-4634-aea5-077263a02a6c",
   "metadata": {},
   "outputs": [],
   "source": [
    "not_need_cols = ['cls_student_id', 'problem_id', 'attempts_date_created', 'is_solved','execution_time']\n",
    "df_train, df_test = df.iloc[df_train.index], df.iloc[df_test.index]\n",
    "df_train = df_train.dropna()\n",
    "df_test = df_test.dropna()"
   ]
  },
  {
   "cell_type": "code",
   "execution_count": 27,
   "id": "12ce89ed-ce6a-4965-920d-af1bc68a0979",
   "metadata": {},
   "outputs": [],
   "source": [
    "X_train, y_train = df_train.drop(not_need_cols, axis=1), df_train['is_solved']\n",
    "X_test, y_test = df_test.drop(not_need_cols, axis=1), df_test['is_solved']"
   ]
  },
  {
   "cell_type": "markdown",
   "id": "2adce17c-8d9f-4a77-b211-05af69d5d281",
   "metadata": {},
   "source": [
    "#### Логистическая регрессия"
   ]
  },
  {
   "cell_type": "code",
   "execution_count": 28,
   "id": "7bca9500-95bd-4424-bfe8-d15ee7d9d67e",
   "metadata": {},
   "outputs": [
    {
     "data": {
      "text/html": [
       "<div>\n",
       "<style scoped>\n",
       "    .dataframe tbody tr th:only-of-type {\n",
       "        vertical-align: middle;\n",
       "    }\n",
       "\n",
       "    .dataframe tbody tr th {\n",
       "        vertical-align: top;\n",
       "    }\n",
       "\n",
       "    .dataframe thead th {\n",
       "        text-align: right;\n",
       "    }\n",
       "</style>\n",
       "<table border=\"1\" class=\"dataframe\">\n",
       "  <thead>\n",
       "    <tr style=\"text-align: right;\">\n",
       "      <th></th>\n",
       "      <th>acc</th>\n",
       "      <th>roc_auc</th>\n",
       "      <th>ap</th>\n",
       "      <th>precision</th>\n",
       "      <th>recall</th>\n",
       "    </tr>\n",
       "  </thead>\n",
       "  <tbody>\n",
       "    <tr>\n",
       "      <th>const</th>\n",
       "      <td>0.595775</td>\n",
       "      <td>0.500000</td>\n",
       "      <td>0.595775</td>\n",
       "      <td>0.595775</td>\n",
       "      <td>1.000000</td>\n",
       "    </tr>\n",
       "    <tr>\n",
       "      <th>lin_model</th>\n",
       "      <td>0.707778</td>\n",
       "      <td>0.756269</td>\n",
       "      <td>0.801462</td>\n",
       "      <td>0.724790</td>\n",
       "      <td>0.821406</td>\n",
       "    </tr>\n",
       "    <tr>\n",
       "      <th>als_model</th>\n",
       "      <td>0.499735</td>\n",
       "      <td>0.499208</td>\n",
       "      <td>0.594793</td>\n",
       "      <td>0.595444</td>\n",
       "      <td>0.500069</td>\n",
       "    </tr>\n",
       "    <tr>\n",
       "      <th>SGD</th>\n",
       "      <td>0.707361</td>\n",
       "      <td>0.765357</td>\n",
       "      <td>0.816738</td>\n",
       "      <td>0.713915</td>\n",
       "      <td>0.849045</td>\n",
       "    </tr>\n",
       "  </tbody>\n",
       "</table>\n",
       "</div>"
      ],
      "text/plain": [
       "                acc   roc_auc        ap  precision    recall\n",
       "const      0.595775  0.500000  0.595775   0.595775  1.000000\n",
       "lin_model  0.707778  0.756269  0.801462   0.724790  0.821406\n",
       "als_model  0.499735  0.499208  0.594793   0.595444  0.500069\n",
       "SGD        0.707361  0.765357  0.816738   0.713915  0.849045"
      ]
     },
     "execution_count": 28,
     "metadata": {},
     "output_type": "execute_result"
    }
   ],
   "source": [
    "clf = make_pipeline(StandardScaler(), SGDClassifier(max_iter=1000, tol=1e-3, loss='log_loss'))\n",
    "clf.fit(X_train, y_train)\n",
    "\n",
    "pred_proba = clf.predict_proba(X_test)[:,1]\n",
    "pred = clf.predict(X_test)\n",
    "all_model_info['SGD'] = get_metrics(y_test, pred, pred_proba)\n",
    "get_info()"
   ]
  },
  {
   "cell_type": "markdown",
   "id": "b6555668-c92f-42db-9814-82a440b9db58",
   "metadata": {},
   "source": [
    "#### Катбуст"
   ]
  },
  {
   "cell_type": "code",
   "execution_count": 29,
   "id": "e4ac9784-2a27-4a4d-96d8-f074859eed22",
   "metadata": {},
   "outputs": [
    {
     "name": "stderr",
     "output_type": "stream",
     "text": [
      "Warning: less than 75% gpu memory available for training. Free: 9173.75 Total: 24260.25\n"
     ]
    },
    {
     "data": {
      "text/html": [
       "<div>\n",
       "<style scoped>\n",
       "    .dataframe tbody tr th:only-of-type {\n",
       "        vertical-align: middle;\n",
       "    }\n",
       "\n",
       "    .dataframe tbody tr th {\n",
       "        vertical-align: top;\n",
       "    }\n",
       "\n",
       "    .dataframe thead th {\n",
       "        text-align: right;\n",
       "    }\n",
       "</style>\n",
       "<table border=\"1\" class=\"dataframe\">\n",
       "  <thead>\n",
       "    <tr style=\"text-align: right;\">\n",
       "      <th></th>\n",
       "      <th>acc</th>\n",
       "      <th>roc_auc</th>\n",
       "      <th>ap</th>\n",
       "      <th>precision</th>\n",
       "      <th>recall</th>\n",
       "    </tr>\n",
       "  </thead>\n",
       "  <tbody>\n",
       "    <tr>\n",
       "      <th>const</th>\n",
       "      <td>0.595775</td>\n",
       "      <td>0.500000</td>\n",
       "      <td>0.595775</td>\n",
       "      <td>0.595775</td>\n",
       "      <td>1.000000</td>\n",
       "    </tr>\n",
       "    <tr>\n",
       "      <th>lin_model</th>\n",
       "      <td>0.707778</td>\n",
       "      <td>0.756269</td>\n",
       "      <td>0.801462</td>\n",
       "      <td>0.724790</td>\n",
       "      <td>0.821406</td>\n",
       "    </tr>\n",
       "    <tr>\n",
       "      <th>als_model</th>\n",
       "      <td>0.499735</td>\n",
       "      <td>0.499208</td>\n",
       "      <td>0.594793</td>\n",
       "      <td>0.595444</td>\n",
       "      <td>0.500069</td>\n",
       "    </tr>\n",
       "    <tr>\n",
       "      <th>SGD</th>\n",
       "      <td>0.707361</td>\n",
       "      <td>0.765357</td>\n",
       "      <td>0.816738</td>\n",
       "      <td>0.713915</td>\n",
       "      <td>0.849045</td>\n",
       "    </tr>\n",
       "    <tr>\n",
       "      <th>cat_boost</th>\n",
       "      <td>0.708210</td>\n",
       "      <td>0.765531</td>\n",
       "      <td>0.813043</td>\n",
       "      <td>0.715849</td>\n",
       "      <td>0.846079</td>\n",
       "    </tr>\n",
       "  </tbody>\n",
       "</table>\n",
       "</div>"
      ],
      "text/plain": [
       "                acc   roc_auc        ap  precision    recall\n",
       "const      0.595775  0.500000  0.595775   0.595775  1.000000\n",
       "lin_model  0.707778  0.756269  0.801462   0.724790  0.821406\n",
       "als_model  0.499735  0.499208  0.594793   0.595444  0.500069\n",
       "SGD        0.707361  0.765357  0.816738   0.713915  0.849045\n",
       "cat_boost  0.708210  0.765531  0.813043   0.715849  0.846079"
      ]
     },
     "execution_count": 29,
     "metadata": {},
     "output_type": "execute_result"
    }
   ],
   "source": [
    "cat_class = CatBoostClassifier(iterations=100, depth=10,\n",
    "                           task_type=\"GPU\",\n",
    "                           devices='0:1', logging_level='Silent')\n",
    "cat_class.fit(X_train, y_train)\n",
    "pred_proba = cat_class.predict_proba(X_test)[:,1]\n",
    "pred = cat_class.predict(X_test)\n",
    "all_model_info['cat_boost'] = get_metrics(y_test, pred, pred_proba)\n",
    "get_info()"
   ]
  },
  {
   "cell_type": "markdown",
   "id": "5395507e-16ae-4812-b1c7-ec15d2be5e6a",
   "metadata": {},
   "source": [
    "#### Случайный лес"
   ]
  },
  {
   "cell_type": "code",
   "execution_count": 30,
   "id": "9ef52af5-1a4f-40df-892c-f5723c82c336",
   "metadata": {},
   "outputs": [
    {
     "name": "stdout",
     "output_type": "stream",
     "text": [
      "CPU times: user 6min 46s, sys: 2.25 s, total: 6min 48s\n",
      "Wall time: 39.7 s\n"
     ]
    },
    {
     "data": {
      "text/html": [
       "<div>\n",
       "<style scoped>\n",
       "    .dataframe tbody tr th:only-of-type {\n",
       "        vertical-align: middle;\n",
       "    }\n",
       "\n",
       "    .dataframe tbody tr th {\n",
       "        vertical-align: top;\n",
       "    }\n",
       "\n",
       "    .dataframe thead th {\n",
       "        text-align: right;\n",
       "    }\n",
       "</style>\n",
       "<table border=\"1\" class=\"dataframe\">\n",
       "  <thead>\n",
       "    <tr style=\"text-align: right;\">\n",
       "      <th></th>\n",
       "      <th>acc</th>\n",
       "      <th>roc_auc</th>\n",
       "      <th>ap</th>\n",
       "      <th>precision</th>\n",
       "      <th>recall</th>\n",
       "    </tr>\n",
       "  </thead>\n",
       "  <tbody>\n",
       "    <tr>\n",
       "      <th>const</th>\n",
       "      <td>0.595775</td>\n",
       "      <td>0.500000</td>\n",
       "      <td>0.595775</td>\n",
       "      <td>0.595775</td>\n",
       "      <td>1.000000</td>\n",
       "    </tr>\n",
       "    <tr>\n",
       "      <th>lin_model</th>\n",
       "      <td>0.707778</td>\n",
       "      <td>0.756269</td>\n",
       "      <td>0.801462</td>\n",
       "      <td>0.724790</td>\n",
       "      <td>0.821406</td>\n",
       "    </tr>\n",
       "    <tr>\n",
       "      <th>als_model</th>\n",
       "      <td>0.499735</td>\n",
       "      <td>0.499208</td>\n",
       "      <td>0.594793</td>\n",
       "      <td>0.595444</td>\n",
       "      <td>0.500069</td>\n",
       "    </tr>\n",
       "    <tr>\n",
       "      <th>SGD</th>\n",
       "      <td>0.707361</td>\n",
       "      <td>0.765357</td>\n",
       "      <td>0.816738</td>\n",
       "      <td>0.713915</td>\n",
       "      <td>0.849045</td>\n",
       "    </tr>\n",
       "    <tr>\n",
       "      <th>cat_boost</th>\n",
       "      <td>0.708210</td>\n",
       "      <td>0.765531</td>\n",
       "      <td>0.813043</td>\n",
       "      <td>0.715849</td>\n",
       "      <td>0.846079</td>\n",
       "    </tr>\n",
       "    <tr>\n",
       "      <th>forest</th>\n",
       "      <td>0.707946</td>\n",
       "      <td>0.768641</td>\n",
       "      <td>0.821779</td>\n",
       "      <td>0.713120</td>\n",
       "      <td>0.852906</td>\n",
       "    </tr>\n",
       "  </tbody>\n",
       "</table>\n",
       "</div>"
      ],
      "text/plain": [
       "                acc   roc_auc        ap  precision    recall\n",
       "const      0.595775  0.500000  0.595775   0.595775  1.000000\n",
       "lin_model  0.707778  0.756269  0.801462   0.724790  0.821406\n",
       "als_model  0.499735  0.499208  0.594793   0.595444  0.500069\n",
       "SGD        0.707361  0.765357  0.816738   0.713915  0.849045\n",
       "cat_boost  0.708210  0.765531  0.813043   0.715849  0.846079\n",
       "forest     0.707946  0.768641  0.821779   0.713120  0.852906"
      ]
     },
     "execution_count": 30,
     "metadata": {},
     "output_type": "execute_result"
    }
   ],
   "source": [
    "%%time\n",
    "forest = RandomForestClassifier(n_estimators=50, max_depth=8, n_jobs=12, random_state=0)\n",
    "forest.fit(X_train, y_train)\n",
    "pred_proba = forest.predict_proba(X_test)[:, 1]\n",
    "pred = forest.predict(X_test)\n",
    "all_model_info['forest'] = get_metrics(y_test, pred, pred_proba)\n",
    "get_info()"
   ]
  },
  {
   "cell_type": "markdown",
   "id": "48dac53c-55b8-476a-9298-19e9afe4498b",
   "metadata": {},
   "source": [
    "#### Обработка графа\n",
    "\n",
    "Далее хочется добавить информацию из графа. Так как распределение задач в графе очень разряжено, буду удалять те ноды графа, в для которых нет ни одной задачи."
   ]
  },
  {
   "cell_type": "code",
   "execution_count": 31,
   "id": "ceeee4fe-dab5-4aaa-8be1-685fb7602de2",
   "metadata": {},
   "outputs": [],
   "source": [
    "with open('graph_math') as f:\n",
    "    graph_data = json.loads(f.read())\n",
    "\n",
    "G = json_graph.node_link_graph(graph_data)\n",
    "classes = set(\" \".join(a.strip().split()) for a in G.nodes)"
   ]
  },
  {
   "cell_type": "code",
   "execution_count": 32,
   "id": "489778f4-95c5-4d4b-bc92-0e80309e7e16",
   "metadata": {},
   "outputs": [],
   "source": [
    "diff = classes.difference(skills)\n",
    "for v in diff:\n",
    "    for in_v, _ in G.in_edges(v):\n",
    "        for _, out_v in G.out_edges(v):\n",
    "            if not G.has_edge(in_v, out_v):\n",
    "                G.add_edge(in_v, out_v)\n",
    "    G.remove_node(v)"
   ]
  },
  {
   "cell_type": "code",
   "execution_count": 33,
   "id": "657f4803-8214-4739-aa99-224fbb9c58bc",
   "metadata": {},
   "outputs": [],
   "source": [
    "df = df.sort_values(by=['attempts_date_created']).reset_index(drop=True)\n",
    "df['att_id'] = df.reset_index()['index']"
   ]
  },
  {
   "cell_type": "code",
   "execution_count": 34,
   "id": "0516d612-3fd2-4f99-baa4-d0c3487f728c",
   "metadata": {},
   "outputs": [],
   "source": [
    "from collections import defaultdict\n",
    "\n",
    "problem_to_skill = defaultdict(list)\n",
    "skill_info.apply(lambda x: problem_to_skill[x['problem_id']].append(x['skills']), axis=1)\n",
    "problem_to_skill = dict(problem_to_skill)"
   ]
  },
  {
   "cell_type": "code",
   "execution_count": 35,
   "id": "17f7f9f8-2ffe-44fa-b894-b5e7bd5a45d2",
   "metadata": {},
   "outputs": [],
   "source": [
    "from dataclasses import dataclass, field\n",
    "\n",
    "@dataclass\n",
    "class StudInfo:\n",
    "    skill_attemps: defaultdict[str, set] = field(default_factory=lambda:defaultdict(set))\n",
    "    skill_solved: defaultdict[str, set] = field(default_factory=lambda:defaultdict(set))"
   ]
  },
  {
   "cell_type": "code",
   "execution_count": 36,
   "id": "5ae2f771-93f5-4de2-b324-6643f9e4c7fe",
   "metadata": {},
   "outputs": [],
   "source": [
    "stud_info = defaultdict(StudInfo)"
   ]
  },
  {
   "cell_type": "markdown",
   "id": "f734ba66-d358-4c5e-b534-56cdb52c6b60",
   "metadata": {},
   "source": [
    "#### Получение информации из графа\n",
    "Для каждой пары студент-задача будем считать сколько уже задач он решил на такой же навык, или на навыки, являющиеся пререквизитами текущим."
   ]
  },
  {
   "cell_type": "code",
   "execution_count": 37,
   "id": "6f314615-e954-4749-85c9-0181d34f5801",
   "metadata": {},
   "outputs": [],
   "source": [
    "def compute_stud_info(row):     \n",
    "    problem_id = row['problem_id']\n",
    "    stud_id = row['cls_student_id']\n",
    "    unic_id = row['att_id']\n",
    "    \n",
    "    solved_cur = set()\n",
    "    attemp_cur = set()\n",
    "    solved_rec = set()\n",
    "    attemp_rec = set()\n",
    "    \n",
    "    for skill in problem_to_skill[problem_id]:\n",
    "        attemp_cur = attemp_cur.union(stud_info[stud_id].skill_attemps[skill])\n",
    "        solved_cur = solved_cur.union(stud_info[stud_id].skill_solved[skill])\n",
    "        \n",
    "        for _, prerec_skill in G.out_edges(skill):\n",
    "            solved_rec = solved_rec.union(stud_info[stud_id].skill_solved[prerec_skill])\n",
    "            attemp_rec = attemp_rec.union(stud_info[stud_id].skill_attemps[prerec_skill])\n",
    "            \n",
    "            for _, prepre_skill in G.out_edges(prerec_skill):\n",
    "                solved_rec = solved_rec.union(stud_info[stud_id].skill_solved[prepre_skill])\n",
    "                attemp_rec = attemp_rec.union(stud_info[stud_id].skill_attemps[prepre_skill])\n",
    "        \n",
    "        stud_info[stud_id].skill_attemps[skill].add(unic_id)\n",
    "        if row['is_solved']:\n",
    "            stud_info[stud_id].skill_solved[skill].add(unic_id)\n",
    "            \n",
    "    solved_cur.discard(unic_id)\n",
    "    attemp_cur.discard(unic_id)\n",
    "    solved_rec.discard(unic_id)\n",
    "    attemp_rec.discard(unic_id)\n",
    "    \n",
    "    res = {\n",
    "        'solved_cur': len(solved_cur),\n",
    "        'attemp_cur': len(attemp_cur),\n",
    "        'solved_rec': len(solved_rec),\n",
    "        'attemp_rec': len(attemp_rec),\n",
    "    }\n",
    "    return res"
   ]
  },
  {
   "cell_type": "code",
   "execution_count": 38,
   "id": "fdbc9fa8-6fd5-4811-b6ce-ea390fa1af78",
   "metadata": {},
   "outputs": [
    {
     "name": "stdout",
     "output_type": "stream",
     "text": [
      "CPU times: user 5min 50s, sys: 3.72 s, total: 5min 53s\n",
      "Wall time: 5min 53s\n"
     ]
    }
   ],
   "source": [
    "%%time\n",
    "df['prerec_info'] = df.apply(compute_stud_info, axis=1)"
   ]
  },
  {
   "cell_type": "code",
   "execution_count": 39,
   "id": "cfe8696e-37e1-4490-9a7b-5b24c6b69467",
   "metadata": {},
   "outputs": [],
   "source": [
    "df['solved_cur'] =  df['prerec_info'].apply(lambda x: x['solved_cur'] / x['attemp_cur'] if x['attemp_cur'] else 0.5)\n",
    "df['attemp_cur'] =  df['prerec_info'].apply(lambda x: x['attemp_cur'])\n",
    "df['solved_rec'] =  df['prerec_info'].apply(lambda x: x['solved_rec'] / x['attemp_rec'] if x['attemp_rec'] else 0.5)\n",
    "df['attemp_rec'] =  df['prerec_info'].apply(lambda x: x['attemp_rec'])"
   ]
  },
  {
   "cell_type": "code",
   "execution_count": 40,
   "id": "8f43a2d6-4429-4ead-b222-6bf0f20d50dd",
   "metadata": {},
   "outputs": [],
   "source": [
    "not_need_cols = ['cls_student_id', 'problem_id', 'attempts_date_created', \n",
    "                 'is_solved', 'solved_rec', 'attemp_rec', 'prerec_info', 'att_id', 'execution_time']\n",
    "df_train, df_test = df.iloc[df_train.index], df.iloc[df_test.index]\n",
    "df_train = df_train.dropna()\n",
    "df_test = df_test.dropna()\n",
    "X_train, y_train = df_train.drop(not_need_cols, axis=1), df_train['is_solved']\n",
    "X_test, y_test = df_test.drop(not_need_cols, axis=1), df_test['is_solved']"
   ]
  },
  {
   "cell_type": "code",
   "execution_count": 41,
   "id": "eb5393e6-47b8-4f32-bbf4-bd2d7f782843",
   "metadata": {},
   "outputs": [
    {
     "data": {
      "text/html": [
       "<div>\n",
       "<style scoped>\n",
       "    .dataframe tbody tr th:only-of-type {\n",
       "        vertical-align: middle;\n",
       "    }\n",
       "\n",
       "    .dataframe tbody tr th {\n",
       "        vertical-align: top;\n",
       "    }\n",
       "\n",
       "    .dataframe thead th {\n",
       "        text-align: right;\n",
       "    }\n",
       "</style>\n",
       "<table border=\"1\" class=\"dataframe\">\n",
       "  <thead>\n",
       "    <tr style=\"text-align: right;\">\n",
       "      <th></th>\n",
       "      <th>assignment_level</th>\n",
       "      <th>mean_problem_solved</th>\n",
       "      <th>execution_time_problem</th>\n",
       "      <th>difficulty</th>\n",
       "      <th>has_diff_info</th>\n",
       "      <th>mean_student_solved</th>\n",
       "      <th>execution_time_student</th>\n",
       "      <th>solved_cur</th>\n",
       "      <th>attemp_cur</th>\n",
       "    </tr>\n",
       "  </thead>\n",
       "  <tbody>\n",
       "    <tr>\n",
       "      <th>2535889</th>\n",
       "      <td>4</td>\n",
       "      <td>0.380873</td>\n",
       "      <td>69.0</td>\n",
       "      <td>0.662803</td>\n",
       "      <td>0.0</td>\n",
       "      <td>0.623656</td>\n",
       "      <td>152.5</td>\n",
       "      <td>0.5</td>\n",
       "      <td>0</td>\n",
       "    </tr>\n",
       "    <tr>\n",
       "      <th>3250975</th>\n",
       "      <td>4</td>\n",
       "      <td>0.512875</td>\n",
       "      <td>562.0</td>\n",
       "      <td>0.447300</td>\n",
       "      <td>0.0</td>\n",
       "      <td>0.671233</td>\n",
       "      <td>1054.5</td>\n",
       "      <td>1.0</td>\n",
       "      <td>1</td>\n",
       "    </tr>\n",
       "  </tbody>\n",
       "</table>\n",
       "</div>"
      ],
      "text/plain": [
       "         assignment_level  mean_problem_solved  execution_time_problem  \\\n",
       "2535889                 4             0.380873                    69.0   \n",
       "3250975                 4             0.512875                   562.0   \n",
       "\n",
       "         difficulty  has_diff_info  mean_student_solved  \\\n",
       "2535889    0.662803            0.0             0.623656   \n",
       "3250975    0.447300            0.0             0.671233   \n",
       "\n",
       "         execution_time_student  solved_cur  attemp_cur  \n",
       "2535889                   152.5         0.5           0  \n",
       "3250975                  1054.5         1.0           1  "
      ]
     },
     "execution_count": 41,
     "metadata": {},
     "output_type": "execute_result"
    }
   ],
   "source": [
    "X_train.head(2)"
   ]
  },
  {
   "cell_type": "markdown",
   "id": "4e55583e-1cd3-4aa5-bc7d-f4a096af1b96",
   "metadata": {},
   "source": [
    "Теперь будем считать те же модели, но для данных, в которые добавли количество решённых задач на ту же, тему, что и текущая задача."
   ]
  },
  {
   "cell_type": "code",
   "execution_count": 42,
   "id": "95c58a8c-1b15-430d-a3b2-afab75da1570",
   "metadata": {},
   "outputs": [
    {
     "data": {
      "text/html": [
       "<div>\n",
       "<style scoped>\n",
       "    .dataframe tbody tr th:only-of-type {\n",
       "        vertical-align: middle;\n",
       "    }\n",
       "\n",
       "    .dataframe tbody tr th {\n",
       "        vertical-align: top;\n",
       "    }\n",
       "\n",
       "    .dataframe thead th {\n",
       "        text-align: right;\n",
       "    }\n",
       "</style>\n",
       "<table border=\"1\" class=\"dataframe\">\n",
       "  <thead>\n",
       "    <tr style=\"text-align: right;\">\n",
       "      <th></th>\n",
       "      <th>acc</th>\n",
       "      <th>roc_auc</th>\n",
       "      <th>ap</th>\n",
       "      <th>precision</th>\n",
       "      <th>recall</th>\n",
       "    </tr>\n",
       "  </thead>\n",
       "  <tbody>\n",
       "    <tr>\n",
       "      <th>const</th>\n",
       "      <td>0.595775</td>\n",
       "      <td>0.500000</td>\n",
       "      <td>0.595775</td>\n",
       "      <td>0.595775</td>\n",
       "      <td>1.000000</td>\n",
       "    </tr>\n",
       "    <tr>\n",
       "      <th>lin_model</th>\n",
       "      <td>0.707778</td>\n",
       "      <td>0.756269</td>\n",
       "      <td>0.801462</td>\n",
       "      <td>0.724790</td>\n",
       "      <td>0.821406</td>\n",
       "    </tr>\n",
       "    <tr>\n",
       "      <th>als_model</th>\n",
       "      <td>0.499735</td>\n",
       "      <td>0.499208</td>\n",
       "      <td>0.594793</td>\n",
       "      <td>0.595444</td>\n",
       "      <td>0.500069</td>\n",
       "    </tr>\n",
       "    <tr>\n",
       "      <th>SGD</th>\n",
       "      <td>0.707361</td>\n",
       "      <td>0.765357</td>\n",
       "      <td>0.816738</td>\n",
       "      <td>0.713915</td>\n",
       "      <td>0.849045</td>\n",
       "    </tr>\n",
       "    <tr>\n",
       "      <th>cat_boost</th>\n",
       "      <td>0.708210</td>\n",
       "      <td>0.765531</td>\n",
       "      <td>0.813043</td>\n",
       "      <td>0.715849</td>\n",
       "      <td>0.846079</td>\n",
       "    </tr>\n",
       "    <tr>\n",
       "      <th>forest</th>\n",
       "      <td>0.707946</td>\n",
       "      <td>0.768641</td>\n",
       "      <td>0.821779</td>\n",
       "      <td>0.713120</td>\n",
       "      <td>0.852906</td>\n",
       "    </tr>\n",
       "    <tr>\n",
       "      <th>SGD_cur_info</th>\n",
       "      <td>0.744710</td>\n",
       "      <td>0.802405</td>\n",
       "      <td>0.866310</td>\n",
       "      <td>0.767677</td>\n",
       "      <td>0.852765</td>\n",
       "    </tr>\n",
       "  </tbody>\n",
       "</table>\n",
       "</div>"
      ],
      "text/plain": [
       "                   acc   roc_auc        ap  precision    recall\n",
       "const         0.595775  0.500000  0.595775   0.595775  1.000000\n",
       "lin_model     0.707778  0.756269  0.801462   0.724790  0.821406\n",
       "als_model     0.499735  0.499208  0.594793   0.595444  0.500069\n",
       "SGD           0.707361  0.765357  0.816738   0.713915  0.849045\n",
       "cat_boost     0.708210  0.765531  0.813043   0.715849  0.846079\n",
       "forest        0.707946  0.768641  0.821779   0.713120  0.852906\n",
       "SGD_cur_info  0.744710  0.802405  0.866310   0.767677  0.852765"
      ]
     },
     "execution_count": 42,
     "metadata": {},
     "output_type": "execute_result"
    }
   ],
   "source": [
    "clf = make_pipeline(StandardScaler(), SGDClassifier(max_iter=1000, tol=1e-3, loss='log_loss'))\n",
    "clf.fit(X_train, y_train)\n",
    "\n",
    "pred_proba = clf.predict_proba(X_test)[:,1]\n",
    "pred = clf.predict(X_test)\n",
    "all_model_info['SGD_cur_info'] = get_metrics(y_test, pred, pred_proba)\n",
    "get_info()"
   ]
  },
  {
   "cell_type": "code",
   "execution_count": 43,
   "id": "c9225ee8-35de-4dfc-afe8-c392d2bdbcc2",
   "metadata": {},
   "outputs": [
    {
     "name": "stderr",
     "output_type": "stream",
     "text": [
      "Warning: less than 75% gpu memory available for training. Free: 9184.625 Total: 24260.25\n"
     ]
    },
    {
     "data": {
      "text/html": [
       "<div>\n",
       "<style scoped>\n",
       "    .dataframe tbody tr th:only-of-type {\n",
       "        vertical-align: middle;\n",
       "    }\n",
       "\n",
       "    .dataframe tbody tr th {\n",
       "        vertical-align: top;\n",
       "    }\n",
       "\n",
       "    .dataframe thead th {\n",
       "        text-align: right;\n",
       "    }\n",
       "</style>\n",
       "<table border=\"1\" class=\"dataframe\">\n",
       "  <thead>\n",
       "    <tr style=\"text-align: right;\">\n",
       "      <th></th>\n",
       "      <th>acc</th>\n",
       "      <th>roc_auc</th>\n",
       "      <th>ap</th>\n",
       "      <th>precision</th>\n",
       "      <th>recall</th>\n",
       "    </tr>\n",
       "  </thead>\n",
       "  <tbody>\n",
       "    <tr>\n",
       "      <th>const</th>\n",
       "      <td>0.595775</td>\n",
       "      <td>0.500000</td>\n",
       "      <td>0.595775</td>\n",
       "      <td>0.595775</td>\n",
       "      <td>1.000000</td>\n",
       "    </tr>\n",
       "    <tr>\n",
       "      <th>lin_model</th>\n",
       "      <td>0.707778</td>\n",
       "      <td>0.756269</td>\n",
       "      <td>0.801462</td>\n",
       "      <td>0.724790</td>\n",
       "      <td>0.821406</td>\n",
       "    </tr>\n",
       "    <tr>\n",
       "      <th>als_model</th>\n",
       "      <td>0.499735</td>\n",
       "      <td>0.499208</td>\n",
       "      <td>0.594793</td>\n",
       "      <td>0.595444</td>\n",
       "      <td>0.500069</td>\n",
       "    </tr>\n",
       "    <tr>\n",
       "      <th>SGD</th>\n",
       "      <td>0.707361</td>\n",
       "      <td>0.765357</td>\n",
       "      <td>0.816738</td>\n",
       "      <td>0.713915</td>\n",
       "      <td>0.849045</td>\n",
       "    </tr>\n",
       "    <tr>\n",
       "      <th>cat_boost</th>\n",
       "      <td>0.708210</td>\n",
       "      <td>0.765531</td>\n",
       "      <td>0.813043</td>\n",
       "      <td>0.715849</td>\n",
       "      <td>0.846079</td>\n",
       "    </tr>\n",
       "    <tr>\n",
       "      <th>forest</th>\n",
       "      <td>0.707946</td>\n",
       "      <td>0.768641</td>\n",
       "      <td>0.821779</td>\n",
       "      <td>0.713120</td>\n",
       "      <td>0.852906</td>\n",
       "    </tr>\n",
       "    <tr>\n",
       "      <th>SGD_cur_info</th>\n",
       "      <td>0.744710</td>\n",
       "      <td>0.802405</td>\n",
       "      <td>0.866310</td>\n",
       "      <td>0.767677</td>\n",
       "      <td>0.852765</td>\n",
       "    </tr>\n",
       "    <tr>\n",
       "      <th>cat_boost_cur_info</th>\n",
       "      <td>0.751559</td>\n",
       "      <td>0.812226</td>\n",
       "      <td>0.874222</td>\n",
       "      <td>0.776401</td>\n",
       "      <td>0.850507</td>\n",
       "    </tr>\n",
       "  </tbody>\n",
       "</table>\n",
       "</div>"
      ],
      "text/plain": [
       "                         acc   roc_auc        ap  precision    recall\n",
       "const               0.595775  0.500000  0.595775   0.595775  1.000000\n",
       "lin_model           0.707778  0.756269  0.801462   0.724790  0.821406\n",
       "als_model           0.499735  0.499208  0.594793   0.595444  0.500069\n",
       "SGD                 0.707361  0.765357  0.816738   0.713915  0.849045\n",
       "cat_boost           0.708210  0.765531  0.813043   0.715849  0.846079\n",
       "forest              0.707946  0.768641  0.821779   0.713120  0.852906\n",
       "SGD_cur_info        0.744710  0.802405  0.866310   0.767677  0.852765\n",
       "cat_boost_cur_info  0.751559  0.812226  0.874222   0.776401  0.850507"
      ]
     },
     "execution_count": 43,
     "metadata": {},
     "output_type": "execute_result"
    }
   ],
   "source": [
    "cat_class = CatBoostClassifier(iterations=1000, depth=10,\n",
    "                           task_type=\"GPU\",\n",
    "                           devices='0:1', logging_level='Silent')\n",
    "cat_class.fit(X_train, y_train)\n",
    "pred_proba = cat_class.predict_proba(X_test)[:,1]\n",
    "pred = cat_class.predict(X_test)\n",
    "all_model_info['cat_boost_cur_info'] = get_metrics(y_test, pred, pred_proba)\n",
    "get_info()"
   ]
  },
  {
   "cell_type": "code",
   "execution_count": 44,
   "id": "08b28a2f-74e7-4425-a70b-c15c8a3cf220",
   "metadata": {},
   "outputs": [
    {
     "name": "stdout",
     "output_type": "stream",
     "text": [
      "CPU times: user 8min 17s, sys: 1.65 s, total: 8min 19s\n",
      "Wall time: 47.8 s\n"
     ]
    },
    {
     "data": {
      "text/html": [
       "<div>\n",
       "<style scoped>\n",
       "    .dataframe tbody tr th:only-of-type {\n",
       "        vertical-align: middle;\n",
       "    }\n",
       "\n",
       "    .dataframe tbody tr th {\n",
       "        vertical-align: top;\n",
       "    }\n",
       "\n",
       "    .dataframe thead th {\n",
       "        text-align: right;\n",
       "    }\n",
       "</style>\n",
       "<table border=\"1\" class=\"dataframe\">\n",
       "  <thead>\n",
       "    <tr style=\"text-align: right;\">\n",
       "      <th></th>\n",
       "      <th>acc</th>\n",
       "      <th>roc_auc</th>\n",
       "      <th>ap</th>\n",
       "      <th>precision</th>\n",
       "      <th>recall</th>\n",
       "    </tr>\n",
       "  </thead>\n",
       "  <tbody>\n",
       "    <tr>\n",
       "      <th>const</th>\n",
       "      <td>0.595775</td>\n",
       "      <td>0.500000</td>\n",
       "      <td>0.595775</td>\n",
       "      <td>0.595775</td>\n",
       "      <td>1.000000</td>\n",
       "    </tr>\n",
       "    <tr>\n",
       "      <th>lin_model</th>\n",
       "      <td>0.707778</td>\n",
       "      <td>0.756269</td>\n",
       "      <td>0.801462</td>\n",
       "      <td>0.724790</td>\n",
       "      <td>0.821406</td>\n",
       "    </tr>\n",
       "    <tr>\n",
       "      <th>als_model</th>\n",
       "      <td>0.499735</td>\n",
       "      <td>0.499208</td>\n",
       "      <td>0.594793</td>\n",
       "      <td>0.595444</td>\n",
       "      <td>0.500069</td>\n",
       "    </tr>\n",
       "    <tr>\n",
       "      <th>SGD</th>\n",
       "      <td>0.707361</td>\n",
       "      <td>0.765357</td>\n",
       "      <td>0.816738</td>\n",
       "      <td>0.713915</td>\n",
       "      <td>0.849045</td>\n",
       "    </tr>\n",
       "    <tr>\n",
       "      <th>cat_boost</th>\n",
       "      <td>0.708210</td>\n",
       "      <td>0.765531</td>\n",
       "      <td>0.813043</td>\n",
       "      <td>0.715849</td>\n",
       "      <td>0.846079</td>\n",
       "    </tr>\n",
       "    <tr>\n",
       "      <th>forest</th>\n",
       "      <td>0.707946</td>\n",
       "      <td>0.768641</td>\n",
       "      <td>0.821779</td>\n",
       "      <td>0.713120</td>\n",
       "      <td>0.852906</td>\n",
       "    </tr>\n",
       "    <tr>\n",
       "      <th>SGD_cur_info</th>\n",
       "      <td>0.744710</td>\n",
       "      <td>0.802405</td>\n",
       "      <td>0.866310</td>\n",
       "      <td>0.767677</td>\n",
       "      <td>0.852765</td>\n",
       "    </tr>\n",
       "    <tr>\n",
       "      <th>cat_boost_cur_info</th>\n",
       "      <td>0.751559</td>\n",
       "      <td>0.812226</td>\n",
       "      <td>0.874222</td>\n",
       "      <td>0.776401</td>\n",
       "      <td>0.850507</td>\n",
       "    </tr>\n",
       "    <tr>\n",
       "      <th>forest_cur_info</th>\n",
       "      <td>0.746711</td>\n",
       "      <td>0.806212</td>\n",
       "      <td>0.869476</td>\n",
       "      <td>0.770218</td>\n",
       "      <td>0.852068</td>\n",
       "    </tr>\n",
       "  </tbody>\n",
       "</table>\n",
       "</div>"
      ],
      "text/plain": [
       "                         acc   roc_auc        ap  precision    recall\n",
       "const               0.595775  0.500000  0.595775   0.595775  1.000000\n",
       "lin_model           0.707778  0.756269  0.801462   0.724790  0.821406\n",
       "als_model           0.499735  0.499208  0.594793   0.595444  0.500069\n",
       "SGD                 0.707361  0.765357  0.816738   0.713915  0.849045\n",
       "cat_boost           0.708210  0.765531  0.813043   0.715849  0.846079\n",
       "forest              0.707946  0.768641  0.821779   0.713120  0.852906\n",
       "SGD_cur_info        0.744710  0.802405  0.866310   0.767677  0.852765\n",
       "cat_boost_cur_info  0.751559  0.812226  0.874222   0.776401  0.850507\n",
       "forest_cur_info     0.746711  0.806212  0.869476   0.770218  0.852068"
      ]
     },
     "execution_count": 44,
     "metadata": {},
     "output_type": "execute_result"
    }
   ],
   "source": [
    "%%time\n",
    "forest = RandomForestClassifier(n_estimators=50, max_depth=8, n_jobs=12, random_state=0)\n",
    "forest.fit(X_train, y_train)\n",
    "pred_proba = forest.predict_proba(X_test)[:, 1]\n",
    "pred = forest.predict(X_test)\n",
    "all_model_info['forest_cur_info'] = get_metrics(y_test, pred, pred_proba)\n",
    "get_info()"
   ]
  },
  {
   "cell_type": "markdown",
   "id": "78e861d1-3cb2-4fdb-82c2-d7aac8e39fd2",
   "metadata": {},
   "source": [
    "Как можем наблюдать, качество сильно возрасло, с добавлением информации по навыкам.\n",
    "\n",
    "Теперь же добавим также информацию о количестве решённых задач у пререквизитных навыков."
   ]
  },
  {
   "cell_type": "code",
   "execution_count": 45,
   "id": "ffc3d511-5113-4556-bd64-0570231a15b6",
   "metadata": {},
   "outputs": [],
   "source": [
    "not_need_cols = ['cls_student_id', 'problem_id', 'attempts_date_created', \n",
    "                 'is_solved', 'prerec_info', 'att_id', 'execution_time']\n",
    "df_train, df_test = df.iloc[df_train.index], df.iloc[df_test.index]\n",
    "df_train = df_train.dropna()\n",
    "df_test = df_test.dropna()\n",
    "X_train, y_train = df_train.drop(not_need_cols, axis=1), df_train['is_solved']\n",
    "X_test, y_test = df_test.drop(not_need_cols, axis=1), df_test['is_solved']"
   ]
  },
  {
   "cell_type": "code",
   "execution_count": 46,
   "id": "d76a14c8-9f93-460d-bc11-6f52bed23e2f",
   "metadata": {},
   "outputs": [
    {
     "data": {
      "text/html": [
       "<div>\n",
       "<style scoped>\n",
       "    .dataframe tbody tr th:only-of-type {\n",
       "        vertical-align: middle;\n",
       "    }\n",
       "\n",
       "    .dataframe tbody tr th {\n",
       "        vertical-align: top;\n",
       "    }\n",
       "\n",
       "    .dataframe thead th {\n",
       "        text-align: right;\n",
       "    }\n",
       "</style>\n",
       "<table border=\"1\" class=\"dataframe\">\n",
       "  <thead>\n",
       "    <tr style=\"text-align: right;\">\n",
       "      <th></th>\n",
       "      <th>acc</th>\n",
       "      <th>roc_auc</th>\n",
       "      <th>ap</th>\n",
       "      <th>precision</th>\n",
       "      <th>recall</th>\n",
       "    </tr>\n",
       "  </thead>\n",
       "  <tbody>\n",
       "    <tr>\n",
       "      <th>const</th>\n",
       "      <td>0.595775</td>\n",
       "      <td>0.500000</td>\n",
       "      <td>0.595775</td>\n",
       "      <td>0.595775</td>\n",
       "      <td>1.000000</td>\n",
       "    </tr>\n",
       "    <tr>\n",
       "      <th>lin_model</th>\n",
       "      <td>0.707778</td>\n",
       "      <td>0.756269</td>\n",
       "      <td>0.801462</td>\n",
       "      <td>0.724790</td>\n",
       "      <td>0.821406</td>\n",
       "    </tr>\n",
       "    <tr>\n",
       "      <th>als_model</th>\n",
       "      <td>0.499735</td>\n",
       "      <td>0.499208</td>\n",
       "      <td>0.594793</td>\n",
       "      <td>0.595444</td>\n",
       "      <td>0.500069</td>\n",
       "    </tr>\n",
       "    <tr>\n",
       "      <th>SGD</th>\n",
       "      <td>0.707361</td>\n",
       "      <td>0.765357</td>\n",
       "      <td>0.816738</td>\n",
       "      <td>0.713915</td>\n",
       "      <td>0.849045</td>\n",
       "    </tr>\n",
       "    <tr>\n",
       "      <th>cat_boost</th>\n",
       "      <td>0.708210</td>\n",
       "      <td>0.765531</td>\n",
       "      <td>0.813043</td>\n",
       "      <td>0.715849</td>\n",
       "      <td>0.846079</td>\n",
       "    </tr>\n",
       "    <tr>\n",
       "      <th>forest</th>\n",
       "      <td>0.707946</td>\n",
       "      <td>0.768641</td>\n",
       "      <td>0.821779</td>\n",
       "      <td>0.713120</td>\n",
       "      <td>0.852906</td>\n",
       "    </tr>\n",
       "    <tr>\n",
       "      <th>SGD_cur_info</th>\n",
       "      <td>0.744710</td>\n",
       "      <td>0.802405</td>\n",
       "      <td>0.866310</td>\n",
       "      <td>0.767677</td>\n",
       "      <td>0.852765</td>\n",
       "    </tr>\n",
       "    <tr>\n",
       "      <th>cat_boost_cur_info</th>\n",
       "      <td>0.751559</td>\n",
       "      <td>0.812226</td>\n",
       "      <td>0.874222</td>\n",
       "      <td>0.776401</td>\n",
       "      <td>0.850507</td>\n",
       "    </tr>\n",
       "    <tr>\n",
       "      <th>forest_cur_info</th>\n",
       "      <td>0.746711</td>\n",
       "      <td>0.806212</td>\n",
       "      <td>0.869476</td>\n",
       "      <td>0.770218</td>\n",
       "      <td>0.852068</td>\n",
       "    </tr>\n",
       "    <tr>\n",
       "      <th>SGD_rec_info</th>\n",
       "      <td>0.744880</td>\n",
       "      <td>0.802567</td>\n",
       "      <td>0.866534</td>\n",
       "      <td>0.767700</td>\n",
       "      <td>0.853103</td>\n",
       "    </tr>\n",
       "  </tbody>\n",
       "</table>\n",
       "</div>"
      ],
      "text/plain": [
       "                         acc   roc_auc        ap  precision    recall\n",
       "const               0.595775  0.500000  0.595775   0.595775  1.000000\n",
       "lin_model           0.707778  0.756269  0.801462   0.724790  0.821406\n",
       "als_model           0.499735  0.499208  0.594793   0.595444  0.500069\n",
       "SGD                 0.707361  0.765357  0.816738   0.713915  0.849045\n",
       "cat_boost           0.708210  0.765531  0.813043   0.715849  0.846079\n",
       "forest              0.707946  0.768641  0.821779   0.713120  0.852906\n",
       "SGD_cur_info        0.744710  0.802405  0.866310   0.767677  0.852765\n",
       "cat_boost_cur_info  0.751559  0.812226  0.874222   0.776401  0.850507\n",
       "forest_cur_info     0.746711  0.806212  0.869476   0.770218  0.852068\n",
       "SGD_rec_info        0.744880  0.802567  0.866534   0.767700  0.853103"
      ]
     },
     "execution_count": 46,
     "metadata": {},
     "output_type": "execute_result"
    }
   ],
   "source": [
    "clf = make_pipeline(StandardScaler(), SGDClassifier(max_iter=1000, tol=1e-3, loss='log_loss'))\n",
    "clf.fit(X_train, y_train)\n",
    "\n",
    "pred_proba = clf.predict_proba(X_test)[:,1]\n",
    "pred = clf.predict(X_test)\n",
    "all_model_info['SGD_rec_info'] = get_metrics(y_test, pred, pred_proba)\n",
    "get_info()"
   ]
  },
  {
   "cell_type": "code",
   "execution_count": 47,
   "id": "5f1aa6c6-f575-421a-b710-e217c551ccb2",
   "metadata": {},
   "outputs": [],
   "source": [
    "torch.cuda.empty_cache()"
   ]
  },
  {
   "cell_type": "code",
   "execution_count": 48,
   "id": "14dcaa34-769e-436c-97b8-e4646982b1e8",
   "metadata": {},
   "outputs": [
    {
     "data": {
      "text/html": [
       "<div>\n",
       "<style scoped>\n",
       "    .dataframe tbody tr th:only-of-type {\n",
       "        vertical-align: middle;\n",
       "    }\n",
       "\n",
       "    .dataframe tbody tr th {\n",
       "        vertical-align: top;\n",
       "    }\n",
       "\n",
       "    .dataframe thead th {\n",
       "        text-align: right;\n",
       "    }\n",
       "</style>\n",
       "<table border=\"1\" class=\"dataframe\">\n",
       "  <thead>\n",
       "    <tr style=\"text-align: right;\">\n",
       "      <th></th>\n",
       "      <th>acc</th>\n",
       "      <th>roc_auc</th>\n",
       "      <th>ap</th>\n",
       "      <th>precision</th>\n",
       "      <th>recall</th>\n",
       "    </tr>\n",
       "  </thead>\n",
       "  <tbody>\n",
       "    <tr>\n",
       "      <th>const</th>\n",
       "      <td>0.595775</td>\n",
       "      <td>0.500000</td>\n",
       "      <td>0.595775</td>\n",
       "      <td>0.595775</td>\n",
       "      <td>1.000000</td>\n",
       "    </tr>\n",
       "    <tr>\n",
       "      <th>lin_model</th>\n",
       "      <td>0.707778</td>\n",
       "      <td>0.756269</td>\n",
       "      <td>0.801462</td>\n",
       "      <td>0.724790</td>\n",
       "      <td>0.821406</td>\n",
       "    </tr>\n",
       "    <tr>\n",
       "      <th>als_model</th>\n",
       "      <td>0.499735</td>\n",
       "      <td>0.499208</td>\n",
       "      <td>0.594793</td>\n",
       "      <td>0.595444</td>\n",
       "      <td>0.500069</td>\n",
       "    </tr>\n",
       "    <tr>\n",
       "      <th>SGD</th>\n",
       "      <td>0.707361</td>\n",
       "      <td>0.765357</td>\n",
       "      <td>0.816738</td>\n",
       "      <td>0.713915</td>\n",
       "      <td>0.849045</td>\n",
       "    </tr>\n",
       "    <tr>\n",
       "      <th>cat_boost</th>\n",
       "      <td>0.708210</td>\n",
       "      <td>0.765531</td>\n",
       "      <td>0.813043</td>\n",
       "      <td>0.715849</td>\n",
       "      <td>0.846079</td>\n",
       "    </tr>\n",
       "    <tr>\n",
       "      <th>forest</th>\n",
       "      <td>0.707946</td>\n",
       "      <td>0.768641</td>\n",
       "      <td>0.821779</td>\n",
       "      <td>0.713120</td>\n",
       "      <td>0.852906</td>\n",
       "    </tr>\n",
       "    <tr>\n",
       "      <th>SGD_cur_info</th>\n",
       "      <td>0.744710</td>\n",
       "      <td>0.802405</td>\n",
       "      <td>0.866310</td>\n",
       "      <td>0.767677</td>\n",
       "      <td>0.852765</td>\n",
       "    </tr>\n",
       "    <tr>\n",
       "      <th>cat_boost_cur_info</th>\n",
       "      <td>0.751559</td>\n",
       "      <td>0.812226</td>\n",
       "      <td>0.874222</td>\n",
       "      <td>0.776401</td>\n",
       "      <td>0.850507</td>\n",
       "    </tr>\n",
       "    <tr>\n",
       "      <th>forest_cur_info</th>\n",
       "      <td>0.746711</td>\n",
       "      <td>0.806212</td>\n",
       "      <td>0.869476</td>\n",
       "      <td>0.770218</td>\n",
       "      <td>0.852068</td>\n",
       "    </tr>\n",
       "    <tr>\n",
       "      <th>SGD_rec_info</th>\n",
       "      <td>0.744880</td>\n",
       "      <td>0.802567</td>\n",
       "      <td>0.866534</td>\n",
       "      <td>0.767700</td>\n",
       "      <td>0.853103</td>\n",
       "    </tr>\n",
       "    <tr>\n",
       "      <th>cat_boost_rec_info</th>\n",
       "      <td>0.751595</td>\n",
       "      <td>0.812416</td>\n",
       "      <td>0.874382</td>\n",
       "      <td>0.776384</td>\n",
       "      <td>0.850621</td>\n",
       "    </tr>\n",
       "  </tbody>\n",
       "</table>\n",
       "</div>"
      ],
      "text/plain": [
       "                         acc   roc_auc        ap  precision    recall\n",
       "const               0.595775  0.500000  0.595775   0.595775  1.000000\n",
       "lin_model           0.707778  0.756269  0.801462   0.724790  0.821406\n",
       "als_model           0.499735  0.499208  0.594793   0.595444  0.500069\n",
       "SGD                 0.707361  0.765357  0.816738   0.713915  0.849045\n",
       "cat_boost           0.708210  0.765531  0.813043   0.715849  0.846079\n",
       "forest              0.707946  0.768641  0.821779   0.713120  0.852906\n",
       "SGD_cur_info        0.744710  0.802405  0.866310   0.767677  0.852765\n",
       "cat_boost_cur_info  0.751559  0.812226  0.874222   0.776401  0.850507\n",
       "forest_cur_info     0.746711  0.806212  0.869476   0.770218  0.852068\n",
       "SGD_rec_info        0.744880  0.802567  0.866534   0.767700  0.853103\n",
       "cat_boost_rec_info  0.751595  0.812416  0.874382   0.776384  0.850621"
      ]
     },
     "execution_count": 48,
     "metadata": {},
     "output_type": "execute_result"
    }
   ],
   "source": [
    "cat_class = CatBoostClassifier(iterations=1000, depth=10,\n",
    "                           task_type=\"GPU\",\n",
    "                           devices='0:1', logging_level='Silent')\n",
    "cat_class.fit(X_train, y_train)\n",
    "pred_proba = cat_class.predict_proba(X_test)[:,1]\n",
    "pred = cat_class.predict(X_test)\n",
    "all_model_info['cat_boost_rec_info'] = get_metrics(y_test, pred, pred_proba)\n",
    "get_info()"
   ]
  },
  {
   "cell_type": "code",
   "execution_count": 49,
   "id": "90a6e65a-279d-4017-b653-56ada9a40692",
   "metadata": {},
   "outputs": [
    {
     "name": "stdout",
     "output_type": "stream",
     "text": [
      "CPU times: user 8min 17s, sys: 1.67 s, total: 8min 19s\n",
      "Wall time: 48.9 s\n"
     ]
    },
    {
     "data": {
      "text/html": [
       "<div>\n",
       "<style scoped>\n",
       "    .dataframe tbody tr th:only-of-type {\n",
       "        vertical-align: middle;\n",
       "    }\n",
       "\n",
       "    .dataframe tbody tr th {\n",
       "        vertical-align: top;\n",
       "    }\n",
       "\n",
       "    .dataframe thead th {\n",
       "        text-align: right;\n",
       "    }\n",
       "</style>\n",
       "<table border=\"1\" class=\"dataframe\">\n",
       "  <thead>\n",
       "    <tr style=\"text-align: right;\">\n",
       "      <th></th>\n",
       "      <th>acc</th>\n",
       "      <th>roc_auc</th>\n",
       "      <th>ap</th>\n",
       "      <th>precision</th>\n",
       "      <th>recall</th>\n",
       "    </tr>\n",
       "  </thead>\n",
       "  <tbody>\n",
       "    <tr>\n",
       "      <th>const</th>\n",
       "      <td>0.595775</td>\n",
       "      <td>0.500000</td>\n",
       "      <td>0.595775</td>\n",
       "      <td>0.595775</td>\n",
       "      <td>1.000000</td>\n",
       "    </tr>\n",
       "    <tr>\n",
       "      <th>lin_model</th>\n",
       "      <td>0.707778</td>\n",
       "      <td>0.756269</td>\n",
       "      <td>0.801462</td>\n",
       "      <td>0.724790</td>\n",
       "      <td>0.821406</td>\n",
       "    </tr>\n",
       "    <tr>\n",
       "      <th>als_model</th>\n",
       "      <td>0.499735</td>\n",
       "      <td>0.499208</td>\n",
       "      <td>0.594793</td>\n",
       "      <td>0.595444</td>\n",
       "      <td>0.500069</td>\n",
       "    </tr>\n",
       "    <tr>\n",
       "      <th>SGD</th>\n",
       "      <td>0.707361</td>\n",
       "      <td>0.765357</td>\n",
       "      <td>0.816738</td>\n",
       "      <td>0.713915</td>\n",
       "      <td>0.849045</td>\n",
       "    </tr>\n",
       "    <tr>\n",
       "      <th>cat_boost</th>\n",
       "      <td>0.708210</td>\n",
       "      <td>0.765531</td>\n",
       "      <td>0.813043</td>\n",
       "      <td>0.715849</td>\n",
       "      <td>0.846079</td>\n",
       "    </tr>\n",
       "    <tr>\n",
       "      <th>forest</th>\n",
       "      <td>0.707946</td>\n",
       "      <td>0.768641</td>\n",
       "      <td>0.821779</td>\n",
       "      <td>0.713120</td>\n",
       "      <td>0.852906</td>\n",
       "    </tr>\n",
       "    <tr>\n",
       "      <th>SGD_cur_info</th>\n",
       "      <td>0.744710</td>\n",
       "      <td>0.802405</td>\n",
       "      <td>0.866310</td>\n",
       "      <td>0.767677</td>\n",
       "      <td>0.852765</td>\n",
       "    </tr>\n",
       "    <tr>\n",
       "      <th>cat_boost_cur_info</th>\n",
       "      <td>0.751559</td>\n",
       "      <td>0.812226</td>\n",
       "      <td>0.874222</td>\n",
       "      <td>0.776401</td>\n",
       "      <td>0.850507</td>\n",
       "    </tr>\n",
       "    <tr>\n",
       "      <th>forest_cur_info</th>\n",
       "      <td>0.746711</td>\n",
       "      <td>0.806212</td>\n",
       "      <td>0.869476</td>\n",
       "      <td>0.770218</td>\n",
       "      <td>0.852068</td>\n",
       "    </tr>\n",
       "    <tr>\n",
       "      <th>SGD_rec_info</th>\n",
       "      <td>0.744880</td>\n",
       "      <td>0.802567</td>\n",
       "      <td>0.866534</td>\n",
       "      <td>0.767700</td>\n",
       "      <td>0.853103</td>\n",
       "    </tr>\n",
       "    <tr>\n",
       "      <th>cat_boost_rec_info</th>\n",
       "      <td>0.751595</td>\n",
       "      <td>0.812416</td>\n",
       "      <td>0.874382</td>\n",
       "      <td>0.776384</td>\n",
       "      <td>0.850621</td>\n",
       "    </tr>\n",
       "    <tr>\n",
       "      <th>forest_rec_info</th>\n",
       "      <td>0.746121</td>\n",
       "      <td>0.805168</td>\n",
       "      <td>0.868472</td>\n",
       "      <td>0.769609</td>\n",
       "      <td>0.851981</td>\n",
       "    </tr>\n",
       "  </tbody>\n",
       "</table>\n",
       "</div>"
      ],
      "text/plain": [
       "                         acc   roc_auc        ap  precision    recall\n",
       "const               0.595775  0.500000  0.595775   0.595775  1.000000\n",
       "lin_model           0.707778  0.756269  0.801462   0.724790  0.821406\n",
       "als_model           0.499735  0.499208  0.594793   0.595444  0.500069\n",
       "SGD                 0.707361  0.765357  0.816738   0.713915  0.849045\n",
       "cat_boost           0.708210  0.765531  0.813043   0.715849  0.846079\n",
       "forest              0.707946  0.768641  0.821779   0.713120  0.852906\n",
       "SGD_cur_info        0.744710  0.802405  0.866310   0.767677  0.852765\n",
       "cat_boost_cur_info  0.751559  0.812226  0.874222   0.776401  0.850507\n",
       "forest_cur_info     0.746711  0.806212  0.869476   0.770218  0.852068\n",
       "SGD_rec_info        0.744880  0.802567  0.866534   0.767700  0.853103\n",
       "cat_boost_rec_info  0.751595  0.812416  0.874382   0.776384  0.850621\n",
       "forest_rec_info     0.746121  0.805168  0.868472   0.769609  0.851981"
      ]
     },
     "execution_count": 49,
     "metadata": {},
     "output_type": "execute_result"
    }
   ],
   "source": [
    "%%time\n",
    "forest = RandomForestClassifier(n_estimators=50, max_depth=8, n_jobs=12, random_state=0)\n",
    "forest.fit(X_train, y_train)\n",
    "pred_proba = forest.predict_proba(X_test)[:, 1]\n",
    "pred = forest.predict(X_test)\n",
    "all_model_info['forest_rec_info'] = get_metrics(y_test, pred, pred_proba)\n",
    "get_info()"
   ]
  },
  {
   "cell_type": "markdown",
   "id": "11a29924-79c1-4d4b-8612-d50671952690",
   "metadata": {},
   "source": [
    "Как можем заметить добавляение информации о пререквизитах особо не повлияло на качество моделей. \n",
    "\n",
    "Теперь напишем функцию, которая вычисляет информацию для конкретного студента."
   ]
  },
  {
   "cell_type": "code",
   "execution_count": 58,
   "id": "7b5f1450-58e1-4d01-9651-54aef1fcae1f",
   "metadata": {},
   "outputs": [],
   "source": [
    "def compute_stud_info_for_one_stud(row):     \n",
    "    problem_id = row['problem_id']\n",
    "    unic_id = row['att_id']\n",
    "    \n",
    "    solved_cur = set()\n",
    "    attemp_cur = set()\n",
    "    solved_rec = set()\n",
    "    attemp_rec = set()\n",
    "    \n",
    "    for skill in problem_to_skill[problem_id]:\n",
    "        attemp_cur = attemp_cur.union(stud_info.skill_attemps[skill])\n",
    "        solved_cur = solved_cur.union(stud_info.skill_solved[skill])\n",
    "        \n",
    "        for _, prerec_skill in G.out_edges(skill):\n",
    "            solved_rec = solved_rec.union(stud_info.skill_solved[prerec_skill])\n",
    "            attemp_rec = attemp_rec.union(stud_info.skill_attemps[prerec_skill])\n",
    "            \n",
    "            for _, prepre_skill in G.out_edges(prerec_skill):\n",
    "                solved_rec = solved_rec.union(stud_info.skill_solved[prepre_skill])\n",
    "                attemp_rec = attemp_rec.union(stud_info.skill_attemps[prepre_skill])\n",
    "        \n",
    "        stud_info.skill_attemps[skill].add(unic_id)\n",
    "        if row['is_solved']:\n",
    "            stud_info.skill_solved[skill].add(unic_id)\n",
    "            \n",
    "    solved_cur.discard(unic_id)\n",
    "    attemp_cur.discard(unic_id)\n",
    "    solved_rec.discard(unic_id)\n",
    "    attemp_rec.discard(unic_id)\n",
    "    \n",
    "    res = {\n",
    "        'solved_cur': len(solved_cur),\n",
    "        'attemp_cur': len(attemp_cur),\n",
    "        'solved_rec': len(solved_rec),\n",
    "        'attemp_rec': len(attemp_rec),\n",
    "    }\n",
    "    return res"
   ]
  },
  {
   "cell_type": "code",
   "execution_count": 62,
   "id": "08e436c2-a7b8-4c52-ba48-f3f1f838b6ba",
   "metadata": {},
   "outputs": [
    {
     "name": "stdout",
     "output_type": "stream",
     "text": [
      "CPU times: user 82.1 ms, sys: 49 µs, total: 82.1 ms\n",
      "Wall time: 80.8 ms\n"
     ]
    }
   ],
   "source": [
    "%%time\n",
    "stud_info = StudInfo()\n",
    "_ = sdf.apply(compute_stud_info_for_one_stud, axis=1)"
   ]
  },
  {
   "cell_type": "code",
   "execution_count": 63,
   "id": "a0a8cb5e-6988-4641-9959-8e374f9c9d32",
   "metadata": {},
   "outputs": [],
   "source": [
    "s_inf = students_info.loc[[stud_id]]\n",
    "s_inf = s_inf.reset_index()\n",
    "train_for_student = problem_info.copy()\n",
    "\n",
    "for col in s_inf.columns:\n",
    "    pr_col = col\n",
    "    if col in train_for_student.columns:\n",
    "        pr_col =  col + \"_stud\"\n",
    "    train_for_student[pr_col] = s_inf[col][0]\n",
    "    \n",
    "train_for_student = train_for_student.reset_index()"
   ]
  },
  {
   "cell_type": "code",
   "execution_count": 72,
   "id": "2f592b62-f68e-487d-a5e7-558879ecd93b",
   "metadata": {},
   "outputs": [
    {
     "name": "stdout",
     "output_type": "stream",
     "text": [
      "(18360, 8)\n"
     ]
    },
    {
     "data": {
      "text/html": [
       "<div>\n",
       "<style scoped>\n",
       "    .dataframe tbody tr th:only-of-type {\n",
       "        vertical-align: middle;\n",
       "    }\n",
       "\n",
       "    .dataframe tbody tr th {\n",
       "        vertical-align: top;\n",
       "    }\n",
       "\n",
       "    .dataframe thead th {\n",
       "        text-align: right;\n",
       "    }\n",
       "</style>\n",
       "<table border=\"1\" class=\"dataframe\">\n",
       "  <thead>\n",
       "    <tr style=\"text-align: right;\">\n",
       "      <th></th>\n",
       "      <th>problem_id</th>\n",
       "      <th>mean_problem_solved</th>\n",
       "      <th>execution_time</th>\n",
       "      <th>difficulty</th>\n",
       "      <th>has_diff_info</th>\n",
       "      <th>cls_student_id</th>\n",
       "      <th>mean_student_solved</th>\n",
       "      <th>execution_time_stud</th>\n",
       "    </tr>\n",
       "  </thead>\n",
       "  <tbody>\n",
       "    <tr>\n",
       "      <th>0</th>\n",
       "      <td>31964</td>\n",
       "      <td>0.666667</td>\n",
       "      <td>417.0</td>\n",
       "      <td>0.336907</td>\n",
       "      <td>0</td>\n",
       "      <td>1450857</td>\n",
       "      <td>0.353416</td>\n",
       "      <td>397.0</td>\n",
       "    </tr>\n",
       "    <tr>\n",
       "      <th>1</th>\n",
       "      <td>31980</td>\n",
       "      <td>0.695652</td>\n",
       "      <td>71.0</td>\n",
       "      <td>0.079576</td>\n",
       "      <td>0</td>\n",
       "      <td>1450857</td>\n",
       "      <td>0.353416</td>\n",
       "      <td>397.0</td>\n",
       "    </tr>\n",
       "  </tbody>\n",
       "</table>\n",
       "</div>"
      ],
      "text/plain": [
       "   problem_id  mean_problem_solved  execution_time  difficulty  has_diff_info  \\\n",
       "0       31964             0.666667           417.0    0.336907              0   \n",
       "1       31980             0.695652            71.0    0.079576              0   \n",
       "\n",
       "   cls_student_id  mean_student_solved  execution_time_stud  \n",
       "0         1450857             0.353416                397.0  \n",
       "1         1450857             0.353416                397.0  "
      ]
     },
     "execution_count": 72,
     "metadata": {},
     "output_type": "execute_result"
    }
   ],
   "source": [
    "print(train_for_student.shape)\n",
    "train_for_student.head(2)"
   ]
  },
  {
   "cell_type": "code",
   "execution_count": 73,
   "id": "09cd99ce-7dea-4d9e-8f1a-a185a3b85cee",
   "metadata": {},
   "outputs": [],
   "source": [
    "def compute_stud_info_for_one_stud_add_inf(row):     \n",
    "    problem_id = row['problem_id']\n",
    "    \n",
    "    solved_cur = set()\n",
    "    attemp_cur = set()\n",
    "    solved_rec = set()\n",
    "    attemp_rec = set()\n",
    "    \n",
    "    for skill in problem_to_skill[problem_id]:\n",
    "        attemp_cur = attemp_cur.union(stud_info.skill_attemps[skill])\n",
    "        solved_cur = solved_cur.union(stud_info.skill_solved[skill])\n",
    "        \n",
    "        for _, prerec_skill in G.out_edges(skill):\n",
    "            solved_rec = solved_rec.union(stud_info.skill_solved[prerec_skill])\n",
    "            attemp_rec = attemp_rec.union(stud_info.skill_attemps[prerec_skill])\n",
    "            \n",
    "            for _, prepre_skill in G.out_edges(prerec_skill):\n",
    "                solved_rec = solved_rec.union(stud_info.skill_solved[prepre_skill])\n",
    "                attemp_rec = attemp_rec.union(stud_info.skill_attemps[prepre_skill])            \n",
    "   \n",
    "    res = {\n",
    "        'solved_cur': len(solved_cur),\n",
    "        'attemp_cur': len(attemp_cur),\n",
    "        'solved_rec': len(solved_rec),\n",
    "        'attemp_rec': len(attemp_rec),\n",
    "    }\n",
    "    return res"
   ]
  },
  {
   "cell_type": "code",
   "execution_count": 75,
   "id": "023aaefe-712d-4b05-9cad-7c319c2b550d",
   "metadata": {},
   "outputs": [
    {
     "name": "stdout",
     "output_type": "stream",
     "text": [
      "CPU times: user 1.7 s, sys: 67 µs, total: 1.7 s\n",
      "Wall time: 1.7 s\n"
     ]
    }
   ],
   "source": [
    "%%time\n",
    "train_for_student['g_inf'] = train_for_student.apply(compute_stud_info_for_one_stud_add_inf, axis=1)"
   ]
  },
  {
   "cell_type": "code",
   "execution_count": 78,
   "id": "66688363-5005-42a7-9e26-9f23750b17a3",
   "metadata": {},
   "outputs": [],
   "source": [
    "train_for_student['solved_cur'] =  train_for_student['g_inf'].apply(lambda x: x['solved_cur'] / x['attemp_cur'] if x['attemp_cur'] else 0.5)\n",
    "train_for_student['attemp_cur'] =  train_for_student['g_inf'].apply(lambda x: x['attemp_cur'])\n",
    "train_for_student['solved_rec'] =  train_for_student['g_inf'].apply(lambda x: x['solved_rec'] / x['attemp_rec'] if x['attemp_rec'] else 0.5)\n",
    "train_for_student['attemp_rec'] =  train_for_student['g_inf'].apply(lambda x: x['attemp_rec'])"
   ]
  },
  {
   "cell_type": "code",
   "execution_count": 79,
   "id": "2680747e-f302-4530-b197-892d76c36133",
   "metadata": {},
   "outputs": [
    {
     "data": {
      "text/html": [
       "<div>\n",
       "<style scoped>\n",
       "    .dataframe tbody tr th:only-of-type {\n",
       "        vertical-align: middle;\n",
       "    }\n",
       "\n",
       "    .dataframe tbody tr th {\n",
       "        vertical-align: top;\n",
       "    }\n",
       "\n",
       "    .dataframe thead th {\n",
       "        text-align: right;\n",
       "    }\n",
       "</style>\n",
       "<table border=\"1\" class=\"dataframe\">\n",
       "  <thead>\n",
       "    <tr style=\"text-align: right;\">\n",
       "      <th></th>\n",
       "      <th>problem_id</th>\n",
       "      <th>mean_problem_solved</th>\n",
       "      <th>execution_time</th>\n",
       "      <th>difficulty</th>\n",
       "      <th>has_diff_info</th>\n",
       "      <th>cls_student_id</th>\n",
       "      <th>mean_student_solved</th>\n",
       "      <th>execution_time_stud</th>\n",
       "      <th>g_inf</th>\n",
       "      <th>solved_cur</th>\n",
       "      <th>attemp_cur</th>\n",
       "      <th>solved_rec</th>\n",
       "      <th>attemp_rec</th>\n",
       "    </tr>\n",
       "  </thead>\n",
       "  <tbody>\n",
       "    <tr>\n",
       "      <th>0</th>\n",
       "      <td>31964</td>\n",
       "      <td>0.666667</td>\n",
       "      <td>417.0</td>\n",
       "      <td>0.336907</td>\n",
       "      <td>0</td>\n",
       "      <td>1450857</td>\n",
       "      <td>0.353416</td>\n",
       "      <td>397.0</td>\n",
       "      <td>{'solved_cur': 1, 'attemp_cur': 2, 'solved_rec...</td>\n",
       "      <td>0.5</td>\n",
       "      <td>2</td>\n",
       "      <td>0.419689</td>\n",
       "      <td>193</td>\n",
       "    </tr>\n",
       "    <tr>\n",
       "      <th>1</th>\n",
       "      <td>31980</td>\n",
       "      <td>0.695652</td>\n",
       "      <td>71.0</td>\n",
       "      <td>0.079576</td>\n",
       "      <td>0</td>\n",
       "      <td>1450857</td>\n",
       "      <td>0.353416</td>\n",
       "      <td>397.0</td>\n",
       "      <td>{'solved_cur': 2, 'attemp_cur': 4, 'solved_rec...</td>\n",
       "      <td>0.5</td>\n",
       "      <td>4</td>\n",
       "      <td>0.583333</td>\n",
       "      <td>48</td>\n",
       "    </tr>\n",
       "  </tbody>\n",
       "</table>\n",
       "</div>"
      ],
      "text/plain": [
       "   problem_id  mean_problem_solved  execution_time  difficulty  has_diff_info  \\\n",
       "0       31964             0.666667           417.0    0.336907              0   \n",
       "1       31980             0.695652            71.0    0.079576              0   \n",
       "\n",
       "   cls_student_id  mean_student_solved  execution_time_stud  \\\n",
       "0         1450857             0.353416                397.0   \n",
       "1         1450857             0.353416                397.0   \n",
       "\n",
       "                                               g_inf  solved_cur  attemp_cur  \\\n",
       "0  {'solved_cur': 1, 'attemp_cur': 2, 'solved_rec...         0.5           2   \n",
       "1  {'solved_cur': 2, 'attemp_cur': 4, 'solved_rec...         0.5           4   \n",
       "\n",
       "   solved_rec  attemp_rec  \n",
       "0    0.419689         193  \n",
       "1    0.583333          48  "
      ]
     },
     "execution_count": 79,
     "metadata": {},
     "output_type": "execute_result"
    }
   ],
   "source": [
    "train_for_student.head(2)"
   ]
  },
  {
   "cell_type": "code",
   "execution_count": 80,
   "id": "b55c5b3c-2150-417e-8b5d-6ea60766e6ed",
   "metadata": {},
   "outputs": [
    {
     "data": {
      "text/plain": [
       "Index(['assignment_level', 'mean_problem_solved', 'execution_time_problem',\n",
       "       'difficulty', 'has_diff_info', 'mean_student_solved',\n",
       "       'execution_time_student', 'solved_cur', 'attemp_cur', 'solved_rec',\n",
       "       'attemp_rec'],\n",
       "      dtype='object')"
      ]
     },
     "execution_count": 80,
     "metadata": {},
     "output_type": "execute_result"
    }
   ],
   "source": [
    "X_train.columns"
   ]
  },
  {
   "cell_type": "code",
   "execution_count": 85,
   "id": "f6e935dd-a02d-4a2a-b0f3-37e8161ae1a0",
   "metadata": {},
   "outputs": [
    {
     "data": {
      "text/plain": [
       "3"
      ]
     },
     "execution_count": 85,
     "metadata": {},
     "output_type": "execute_result"
    }
   ],
   "source": [
    "sdf['assignment_level'].iloc[0]"
   ]
  },
  {
   "cell_type": "code",
   "execution_count": 86,
   "id": "fa27199a-40f8-400f-8062-a6f92115948f",
   "metadata": {},
   "outputs": [],
   "source": [
    "train_for_student['assignment_level'] = 3"
   ]
  },
  {
   "cell_type": "code",
   "execution_count": 91,
   "id": "41627b06-b9a9-4579-a8f2-d81b0f673b13",
   "metadata": {},
   "outputs": [],
   "source": [
    "train_for_student['execution_time_problem'] = train_for_student['execution_time']\n",
    "train_for_student['execution_time_student'] = train_for_student['execution_time_stud']"
   ]
  },
  {
   "cell_type": "code",
   "execution_count": 92,
   "id": "e2f6d611-cb9e-46af-91d0-edfe748d89fe",
   "metadata": {},
   "outputs": [
    {
     "data": {
      "text/plain": [
       "set()"
      ]
     },
     "execution_count": 92,
     "metadata": {},
     "output_type": "execute_result"
    }
   ],
   "source": [
    "set(X_train.columns).difference(train_for_student.columns)"
   ]
  },
  {
   "cell_type": "code",
   "execution_count": 93,
   "id": "79458b7d-3b5b-48e5-9aaa-c47569077c89",
   "metadata": {},
   "outputs": [],
   "source": [
    "X_student_test = train_for_student[X_train.columns]"
   ]
  },
  {
   "cell_type": "code",
   "execution_count": 95,
   "id": "0b4ec1bd-6c2e-42fd-8ce5-de0fad138b67",
   "metadata": {},
   "outputs": [],
   "source": [
    "pred_proba = cat_class.predict_proba(X_student_test)[:,1]"
   ]
  },
  {
   "cell_type": "code",
   "execution_count": 97,
   "id": "ca731259-d574-4654-9607-6aa132a84724",
   "metadata": {},
   "outputs": [],
   "source": [
    "train_for_student['proba'] = pred_proba"
   ]
  },
  {
   "cell_type": "code",
   "execution_count": 137,
   "id": "2d774787-9dd7-4ab1-ac18-0a74bac5c70d",
   "metadata": {},
   "outputs": [],
   "source": [
    "res = train_for_student[(train_for_student['attemp_cur'] == 0) & (train_for_student['attemp_rec'] > 5)]"
   ]
  },
  {
   "cell_type": "code",
   "execution_count": 139,
   "id": "9738a718-873e-45e3-88e2-bad5de39f589",
   "metadata": {},
   "outputs": [],
   "source": [
    "student_info = res[['problem_id', 'proba']].sort_values(by=['proba'])"
   ]
  },
  {
   "cell_type": "code",
   "execution_count": 156,
   "id": "9d700861-e298-4a7d-86f2-8d332251072d",
   "metadata": {},
   "outputs": [],
   "source": [
    "def get_bad_skills(stud_info):\n",
    "    bad_skills = defaultdict(int)\n",
    "    for c in stud_info.iloc[:30].iloc:\n",
    "        for skill in problem_to_skill[c['problem_id']]:\n",
    "            if len(G.out_edges(skill)):\n",
    "                bad_skills[skill] += 1\n",
    "    bad_skills = dict(bad_skills)\n",
    "    global f\n",
    "    f = bad_skills\n",
    "    \n",
    "    return sorted(bad_skills, key=lambda x: bad_skills[x], reverse=True)[:5]"
   ]
  },
  {
   "cell_type": "code",
   "execution_count": 157,
   "id": "e3f885af-dd1b-490a-ae7c-622876a9b1b3",
   "metadata": {},
   "outputs": [
    {
     "data": {
      "text/plain": [
       "['воспроизводить циклический алгоритм письменного деления (последовательность действий) n-значных чисел (n>=3) Повторяются выделенные операции 1) Выделяю первое неполное делимое (и называю количество цифр в частном) 2) Делю 3) Умножаю 4) Вычитаю 5) сравниваю остаток с делителем',\n",
       " 'выражать n-значные числа (где n>=4), заданные в единицах 1 разряда, в единицах других разрядов (например: 2300 = 23 сот.) и наоборот (например, 25 сот.= 2500)',\n",
       " 'находить общее число единиц какого-либо разряда (например, число 82345 содержит всего 8дес. тыс., 82 ед. тыс., 823 сот., 8234 дес., 82345 ед.)',\n",
       " 'извлекать и анализировать необходимую информацию из двумерной таблицы без числовых данных (наличие указанных свойств отмечено знаками) и анализировать ее',\n",
       " 'подбирать объекты по описанию их взаимного расположения в пространстве с точки зрения ребенка - наблюдателя']"
      ]
     },
     "execution_count": 157,
     "metadata": {},
     "output_type": "execute_result"
    }
   ],
   "source": [
    "get_bad_skills(student_info)"
   ]
  }
 ],
 "metadata": {
  "kernelspec": {
   "display_name": "Python 3 (ipykernel)",
   "language": "python",
   "name": "python3"
  },
  "language_info": {
   "codemirror_mode": {
    "name": "ipython",
    "version": 3
   },
   "file_extension": ".py",
   "mimetype": "text/x-python",
   "name": "python",
   "nbconvert_exporter": "python",
   "pygments_lexer": "ipython3",
   "version": "3.10.6"
  }
 },
 "nbformat": 4,
 "nbformat_minor": 5
}
