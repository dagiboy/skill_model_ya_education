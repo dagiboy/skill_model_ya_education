{
 "cells": [
  {
   "cell_type": "code",
   "execution_count": 5,
   "id": "8941c36e",
   "metadata": {},
   "outputs": [],
   "source": [
    "import pandas as pd"
   ]
  },
  {
   "cell_type": "code",
   "execution_count": 6,
   "id": "b66aca5b",
   "metadata": {},
   "outputs": [],
   "source": [
    "date_cols = ['attempts_date_created', 'cl_date_assignment', 'cls_date_created']\n",
    "df = pd.read_csv('wide_math.csv', parse_dates=date_cols, index_col=False)"
   ]
  },
  {
   "cell_type": "code",
   "execution_count": 11,
   "id": "72139049",
   "metadata": {},
   "outputs": [],
   "source": [
    "df['attempts_date_created'] = df['attempts_date_created'].dt.floor('s')\n",
    "df['cls_date_created'] = df['cls_date_created'].dt.floor('s')"
   ]
  },
  {
   "cell_type": "code",
   "execution_count": 4,
   "id": "94927258",
   "metadata": {},
   "outputs": [],
   "source": [
    "df.to_csv('wide_math.csv', index=False)"
   ]
  },
  {
   "cell_type": "code",
   "execution_count": 9,
   "id": "8627fbe1",
   "metadata": {},
   "outputs": [],
   "source": [
    "df.drop(['Unnamed: 0.1', 'Unnamed: 0'], axis=1).to_csv('wide_math.csv', index=False)"
   ]
  },
  {
   "cell_type": "code",
   "execution_count": null,
   "id": "2e6de87f",
   "metadata": {},
   "outputs": [],
   "source": [
    "df = df.drop(['Unnamed: 0.1', 'Unnamed: 0'], axis=1)"
   ]
  },
  {
   "cell_type": "code",
   "execution_count": 12,
   "id": "e6a1614c",
   "metadata": {},
   "outputs": [
    {
     "data": {
      "text/html": [
       "<div>\n",
       "<style scoped>\n",
       "    .dataframe tbody tr th:only-of-type {\n",
       "        vertical-align: middle;\n",
       "    }\n",
       "\n",
       "    .dataframe tbody tr th {\n",
       "        vertical-align: top;\n",
       "    }\n",
       "\n",
       "    .dataframe thead th {\n",
       "        text-align: right;\n",
       "    }\n",
       "</style>\n",
       "<table border=\"1\" class=\"dataframe\">\n",
       "  <thead>\n",
       "    <tr style=\"text-align: right;\">\n",
       "      <th></th>\n",
       "      <th>assignment_level</th>\n",
       "      <th>attempts_date_created</th>\n",
       "      <th>cl_date_assignment</th>\n",
       "      <th>cl_id</th>\n",
       "      <th>cls_date_created</th>\n",
       "      <th>cls_student_id</th>\n",
       "      <th>course_id</th>\n",
       "      <th>is_solved</th>\n",
       "      <th>problem_id</th>\n",
       "      <th>subject_slug</th>\n",
       "      <th>team_id</th>\n",
       "      <th>team_level</th>\n",
       "      <th>tp_teacher_id</th>\n",
       "    </tr>\n",
       "  </thead>\n",
       "  <tbody>\n",
       "    <tr>\n",
       "      <th>0</th>\n",
       "      <td>3</td>\n",
       "      <td>2022-03-08 11:02:37+03:00</td>\n",
       "      <td>2022-03-05 13:00:00+03:00</td>\n",
       "      <td>71374307</td>\n",
       "      <td>2022-03-08 10:52:43+03:00</td>\n",
       "      <td>1650006</td>\n",
       "      <td>5096626</td>\n",
       "      <td>1</td>\n",
       "      <td>97304</td>\n",
       "      <td>mathematics</td>\n",
       "      <td>82516</td>\n",
       "      <td>4</td>\n",
       "      <td>520541</td>\n",
       "    </tr>\n",
       "    <tr>\n",
       "      <th>1</th>\n",
       "      <td>3</td>\n",
       "      <td>2022-03-08 11:02:49+03:00</td>\n",
       "      <td>2021-09-02 14:23:50+03:00</td>\n",
       "      <td>70879797</td>\n",
       "      <td>2022-03-08 11:02:08+03:00</td>\n",
       "      <td>1494142</td>\n",
       "      <td>5099807</td>\n",
       "      <td>1</td>\n",
       "      <td>227546</td>\n",
       "      <td>mathematics</td>\n",
       "      <td>69290</td>\n",
       "      <td>4</td>\n",
       "      <td>615530</td>\n",
       "    </tr>\n",
       "  </tbody>\n",
       "</table>\n",
       "</div>"
      ],
      "text/plain": [
       "   assignment_level     attempts_date_created        cl_date_assignment  \\\n",
       "0                 3 2022-03-08 11:02:37+03:00 2022-03-05 13:00:00+03:00   \n",
       "1                 3 2022-03-08 11:02:49+03:00 2021-09-02 14:23:50+03:00   \n",
       "\n",
       "      cl_id          cls_date_created  cls_student_id  course_id  is_solved  \\\n",
       "0  71374307 2022-03-08 10:52:43+03:00         1650006    5096626          1   \n",
       "1  70879797 2022-03-08 11:02:08+03:00         1494142    5099807          1   \n",
       "\n",
       "   problem_id subject_slug  team_id  team_level  tp_teacher_id  \n",
       "0       97304  mathematics    82516           4         520541  \n",
       "1      227546  mathematics    69290           4         615530  "
      ]
     },
     "execution_count": 12,
     "metadata": {},
     "output_type": "execute_result"
    }
   ],
   "source": [
    "df.head(2)"
   ]
  },
  {
   "cell_type": "markdown",
   "id": "497afb02",
   "metadata": {},
   "source": [
    "- assignment_level - класс, когда он решал\n",
    "- attempts_date_created - время поптыки\n",
    "- cl_date_assigment - время выдачи задачи\n",
    "- cl-id - id урока, который выдан студентам этого класса. урок - набор карточек, который выдал учитель.\n",
    "- cls_date_created - когда приступил к уроку\n",
    "- cls_student_id - id ученика\n",
    "- course_id - id курса (предмет-учитель-assignment_level)\n",
    "- is_solved - решена ли задача\n",
    "- problem-id - id задачи\n",
    "- subject_slug - предмет\n",
    "- team-id - id класса\n",
    "- team_level - текущик класс ученика\n",
    "- tp_teacher_id - id препода"
   ]
  },
  {
   "cell_type": "code",
   "execution_count": 17,
   "id": "9cd4fd76",
   "metadata": {},
   "outputs": [],
   "source": [
    "mark_up_math = pd.read_excel('markup_math.xlsx')\n",
    "mark_up_math= mark_up_math[1:]"
   ]
  },
  {
   "cell_type": "code",
   "execution_count": 18,
   "id": "94cd06cb",
   "metadata": {},
   "outputs": [
    {
     "data": {
      "text/html": [
       "<div>\n",
       "<style scoped>\n",
       "    .dataframe tbody tr th:only-of-type {\n",
       "        vertical-align: middle;\n",
       "    }\n",
       "\n",
       "    .dataframe tbody tr th {\n",
       "        vertical-align: top;\n",
       "    }\n",
       "\n",
       "    .dataframe thead th {\n",
       "        text-align: right;\n",
       "    }\n",
       "</style>\n",
       "<table border=\"1\" class=\"dataframe\">\n",
       "  <thead>\n",
       "    <tr style=\"text-align: right;\">\n",
       "      <th></th>\n",
       "      <th>attributes</th>\n",
       "      <th>limits</th>\n",
       "      <th>problem_id</th>\n",
       "      <th>skills</th>\n",
       "      <th>stack_id</th>\n",
       "      <th>units</th>\n",
       "    </tr>\n",
       "  </thead>\n",
       "  <tbody>\n",
       "    <tr>\n",
       "      <th>1</th>\n",
       "      <td>NaN</td>\n",
       "      <td>В пределах 20</td>\n",
       "      <td>78236</td>\n",
       "      <td>решать задачи на нахождение числа элементов  п...</td>\n",
       "      <td>27125</td>\n",
       "      <td>NaN</td>\n",
       "    </tr>\n",
       "    <tr>\n",
       "      <th>2</th>\n",
       "      <td>NaN</td>\n",
       "      <td>В пределах 20</td>\n",
       "      <td>78236</td>\n",
       "      <td>сравнивать/упорядочивать числа меньшие или рав...</td>\n",
       "      <td>27125</td>\n",
       "      <td>NaN</td>\n",
       "    </tr>\n",
       "    <tr>\n",
       "      <th>3</th>\n",
       "      <td>NaN</td>\n",
       "      <td>В пределах 20</td>\n",
       "      <td>78236</td>\n",
       "      <td>\\nрешать задачи на упорядочивание множеств /ве...</td>\n",
       "      <td>27125</td>\n",
       "      <td>NaN</td>\n",
       "    </tr>\n",
       "    <tr>\n",
       "      <th>4</th>\n",
       "      <td>NaN</td>\n",
       "      <td>NaN</td>\n",
       "      <td>60086</td>\n",
       "      <td>находить долю величины (половина, треть, четве...</td>\n",
       "      <td>27086</td>\n",
       "      <td>NaN</td>\n",
       "    </tr>\n",
       "  </tbody>\n",
       "</table>\n",
       "</div>"
      ],
      "text/plain": [
       "  attributes         limits problem_id  \\\n",
       "1        NaN  В пределах 20      78236   \n",
       "2        NaN  В пределах 20      78236   \n",
       "3        NaN  В пределах 20      78236   \n",
       "4        NaN            NaN      60086   \n",
       "\n",
       "                                              skills stack_id units  \n",
       "1  решать задачи на нахождение числа элементов  п...    27125   NaN  \n",
       "2  сравнивать/упорядочивать числа меньшие или рав...    27125   NaN  \n",
       "3  \\nрешать задачи на упорядочивание множеств /ве...    27125   NaN  \n",
       "4  находить долю величины (половина, треть, четве...    27086   NaN  "
      ]
     },
     "execution_count": 18,
     "metadata": {},
     "output_type": "execute_result"
    }
   ],
   "source": [
    "mark_up_math.head(4) # очень грязные данные(((("
   ]
  },
  {
   "cell_type": "code",
   "execution_count": 46,
   "id": "a894d00e",
   "metadata": {},
   "outputs": [],
   "source": [
    "med_date = df['attempts_date_created'].median()\n",
    "med_user = df['cls_student_id'].median()"
   ]
  },
  {
   "cell_type": "code",
   "execution_count": 43,
   "id": "a83d3525",
   "metadata": {},
   "outputs": [],
   "source": [
    "post_df = df[df['attempts_date_created'] > mean_date]\n",
    "before_df = df[df['attempts_date_created'] <= mean_date]"
   ]
  },
  {
   "cell_type": "code",
   "execution_count": 44,
   "id": "a175be25",
   "metadata": {},
   "outputs": [
    {
     "data": {
      "text/plain": [
       "6402"
      ]
     },
     "execution_count": 44,
     "metadata": {},
     "output_type": "execute_result"
    }
   ],
   "source": [
    "len(set(post_df['problem_id']).difference(set(before_df['problem_id'])))"
   ]
  },
  {
   "cell_type": "markdown",
   "id": "56bb24d5",
   "metadata": {},
   "source": [
    "Если отсекать по датасет по времени, то есть куча задач, про которые мы не знаем, так как нет информации прошлых лет их решения. Предлагаю делить датасет по времени и пользователям и взять 1/4 от датасета для валидации"
   ]
  },
  {
   "cell_type": "code",
   "execution_count": 47,
   "id": "44a184e3",
   "metadata": {},
   "outputs": [],
   "source": [
    "test_index = (df['cls_student_id'] > med_user) & (df['attempts_date_created'] > med_date)\n",
    "train_index = ~test_index"
   ]
  },
  {
   "cell_type": "code",
   "execution_count": 97,
   "id": "4e4303ee",
   "metadata": {},
   "outputs": [],
   "source": [
    "df_train = df[train_index]\n",
    "df_test = df[test_index]"
   ]
  },
  {
   "cell_type": "code",
   "execution_count": null,
   "id": "6a46f305",
   "metadata": {},
   "outputs": [],
   "source": [
    "df_train = df_train.groupby(by=['problem_id', 'cls_student_id']).apply(g)"
   ]
  },
  {
   "cell_type": "code",
   "execution_count": 120,
   "id": "a82ad2da",
   "metadata": {},
   "outputs": [],
   "source": [
    "def g(a):\n",
    "    if a.shape[0] == 1:\n",
    "        return 0\n",
    "    for i in range(1, a.shape[0]):\n",
    "        assert a['attempts_date_created'].iloc[i-1] <= a['attempts_date_created'].iloc[i]\n",
    "        if not a['is_solved'].iloc[i-1] <= a['is_solved'].iloc[i]:\n",
    "            global b\n",
    "            b = a\n",
    "            assert False \n",
    "    return 0"
   ]
  },
  {
   "cell_type": "code",
   "execution_count": 121,
   "id": "598e661f",
   "metadata": {
    "scrolled": true
   },
   "outputs": [
    {
     "ename": "AssertionError",
     "evalue": "",
     "output_type": "error",
     "traceback": [
      "\u001b[0;31m---------------------------------------------------------------------------\u001b[0m",
      "\u001b[0;31mAssertionError\u001b[0m                            Traceback (most recent call last)",
      "Input \u001b[0;32mIn [121]\u001b[0m, in \u001b[0;36m<cell line: 3>\u001b[0;34m()\u001b[0m\n\u001b[1;32m      1\u001b[0m df_test \u001b[38;5;241m=\u001b[39m df[test_index]\n\u001b[1;32m      2\u001b[0m df_test \u001b[38;5;241m=\u001b[39m df_test\u001b[38;5;241m.\u001b[39msort_values(by\u001b[38;5;241m=\u001b[39m[\u001b[38;5;124m'\u001b[39m\u001b[38;5;124mproblem_id\u001b[39m\u001b[38;5;124m'\u001b[39m, \u001b[38;5;124m'\u001b[39m\u001b[38;5;124mcls_student_id\u001b[39m\u001b[38;5;124m'\u001b[39m, \u001b[38;5;124m'\u001b[39m\u001b[38;5;124mattempts_date_created\u001b[39m\u001b[38;5;124m'\u001b[39m, \u001b[38;5;124m'\u001b[39m\u001b[38;5;124mis_solved\u001b[39m\u001b[38;5;124m'\u001b[39m])\n\u001b[0;32m----> 3\u001b[0m df_test \u001b[38;5;241m=\u001b[39m \u001b[43mdf_test\u001b[49m\u001b[38;5;241;43m.\u001b[39;49m\u001b[43mgroupby\u001b[49m\u001b[43m(\u001b[49m\u001b[43mby\u001b[49m\u001b[38;5;241;43m=\u001b[39;49m\u001b[43m[\u001b[49m\u001b[38;5;124;43m'\u001b[39;49m\u001b[38;5;124;43mproblem_id\u001b[39;49m\u001b[38;5;124;43m'\u001b[39;49m\u001b[43m,\u001b[49m\u001b[43m \u001b[49m\u001b[38;5;124;43m'\u001b[39;49m\u001b[38;5;124;43mcls_student_id\u001b[39;49m\u001b[38;5;124;43m'\u001b[39;49m\u001b[43m]\u001b[49m\u001b[43m)\u001b[49m\u001b[38;5;241;43m.\u001b[39;49m\u001b[43mapply\u001b[49m\u001b[43m(\u001b[49m\u001b[43mg\u001b[49m\u001b[43m)\u001b[49m\n",
      "File \u001b[0;32m~/.local/lib/python3.10/site-packages/pandas/core/groupby/groupby.py:1423\u001b[0m, in \u001b[0;36mGroupBy.apply\u001b[0;34m(self, func, *args, **kwargs)\u001b[0m\n\u001b[1;32m   1421\u001b[0m \u001b[38;5;28;01mwith\u001b[39;00m option_context(\u001b[38;5;124m\"\u001b[39m\u001b[38;5;124mmode.chained_assignment\u001b[39m\u001b[38;5;124m\"\u001b[39m, \u001b[38;5;28;01mNone\u001b[39;00m):\n\u001b[1;32m   1422\u001b[0m     \u001b[38;5;28;01mtry\u001b[39;00m:\n\u001b[0;32m-> 1423\u001b[0m         result \u001b[38;5;241m=\u001b[39m \u001b[38;5;28;43mself\u001b[39;49m\u001b[38;5;241;43m.\u001b[39;49m\u001b[43m_python_apply_general\u001b[49m\u001b[43m(\u001b[49m\u001b[43mf\u001b[49m\u001b[43m,\u001b[49m\u001b[43m \u001b[49m\u001b[38;5;28;43mself\u001b[39;49m\u001b[38;5;241;43m.\u001b[39;49m\u001b[43m_selected_obj\u001b[49m\u001b[43m)\u001b[49m\n\u001b[1;32m   1424\u001b[0m     \u001b[38;5;28;01mexcept\u001b[39;00m \u001b[38;5;167;01mTypeError\u001b[39;00m:\n\u001b[1;32m   1425\u001b[0m         \u001b[38;5;66;03m# gh-20949\u001b[39;00m\n\u001b[1;32m   1426\u001b[0m         \u001b[38;5;66;03m# try again, with .apply acting as a filtering\u001b[39;00m\n\u001b[0;32m   (...)\u001b[0m\n\u001b[1;32m   1430\u001b[0m         \u001b[38;5;66;03m# fails on *some* columns, e.g. a numeric operation\u001b[39;00m\n\u001b[1;32m   1431\u001b[0m         \u001b[38;5;66;03m# on a string grouper column\u001b[39;00m\n\u001b[1;32m   1433\u001b[0m         \u001b[38;5;28;01mwith\u001b[39;00m \u001b[38;5;28mself\u001b[39m\u001b[38;5;241m.\u001b[39m_group_selection_context():\n",
      "File \u001b[0;32m~/.local/lib/python3.10/site-packages/pandas/core/groupby/groupby.py:1464\u001b[0m, in \u001b[0;36mGroupBy._python_apply_general\u001b[0;34m(self, f, data, not_indexed_same)\u001b[0m\n\u001b[1;32m   1438\u001b[0m \u001b[38;5;129m@final\u001b[39m\n\u001b[1;32m   1439\u001b[0m \u001b[38;5;28;01mdef\u001b[39;00m \u001b[38;5;21m_python_apply_general\u001b[39m(\n\u001b[1;32m   1440\u001b[0m     \u001b[38;5;28mself\u001b[39m,\n\u001b[0;32m   (...)\u001b[0m\n\u001b[1;32m   1443\u001b[0m     not_indexed_same: \u001b[38;5;28mbool\u001b[39m \u001b[38;5;241m|\u001b[39m \u001b[38;5;28;01mNone\u001b[39;00m \u001b[38;5;241m=\u001b[39m \u001b[38;5;28;01mNone\u001b[39;00m,\n\u001b[1;32m   1444\u001b[0m ) \u001b[38;5;241m-\u001b[39m\u001b[38;5;241m>\u001b[39m DataFrame \u001b[38;5;241m|\u001b[39m Series:\n\u001b[1;32m   1445\u001b[0m     \u001b[38;5;124;03m\"\"\"\u001b[39;00m\n\u001b[1;32m   1446\u001b[0m \u001b[38;5;124;03m    Apply function f in python space\u001b[39;00m\n\u001b[1;32m   1447\u001b[0m \n\u001b[0;32m   (...)\u001b[0m\n\u001b[1;32m   1462\u001b[0m \u001b[38;5;124;03m        data after applying f\u001b[39;00m\n\u001b[1;32m   1463\u001b[0m \u001b[38;5;124;03m    \"\"\"\u001b[39;00m\n\u001b[0;32m-> 1464\u001b[0m     values, mutated \u001b[38;5;241m=\u001b[39m \u001b[38;5;28;43mself\u001b[39;49m\u001b[38;5;241;43m.\u001b[39;49m\u001b[43mgrouper\u001b[49m\u001b[38;5;241;43m.\u001b[39;49m\u001b[43mapply\u001b[49m\u001b[43m(\u001b[49m\u001b[43mf\u001b[49m\u001b[43m,\u001b[49m\u001b[43m \u001b[49m\u001b[43mdata\u001b[49m\u001b[43m,\u001b[49m\u001b[43m \u001b[49m\u001b[38;5;28;43mself\u001b[39;49m\u001b[38;5;241;43m.\u001b[39;49m\u001b[43maxis\u001b[49m\u001b[43m)\u001b[49m\n\u001b[1;32m   1466\u001b[0m     \u001b[38;5;28;01mif\u001b[39;00m not_indexed_same \u001b[38;5;129;01mis\u001b[39;00m \u001b[38;5;28;01mNone\u001b[39;00m:\n\u001b[1;32m   1467\u001b[0m         not_indexed_same \u001b[38;5;241m=\u001b[39m mutated \u001b[38;5;129;01mor\u001b[39;00m \u001b[38;5;28mself\u001b[39m\u001b[38;5;241m.\u001b[39mmutated\n",
      "File \u001b[0;32m~/.local/lib/python3.10/site-packages/pandas/core/groupby/ops.py:761\u001b[0m, in \u001b[0;36mBaseGrouper.apply\u001b[0;34m(self, f, data, axis)\u001b[0m\n\u001b[1;32m    759\u001b[0m \u001b[38;5;66;03m# group might be modified\u001b[39;00m\n\u001b[1;32m    760\u001b[0m group_axes \u001b[38;5;241m=\u001b[39m group\u001b[38;5;241m.\u001b[39maxes\n\u001b[0;32m--> 761\u001b[0m res \u001b[38;5;241m=\u001b[39m \u001b[43mf\u001b[49m\u001b[43m(\u001b[49m\u001b[43mgroup\u001b[49m\u001b[43m)\u001b[49m\n\u001b[1;32m    762\u001b[0m \u001b[38;5;28;01mif\u001b[39;00m \u001b[38;5;129;01mnot\u001b[39;00m mutated \u001b[38;5;129;01mand\u001b[39;00m \u001b[38;5;129;01mnot\u001b[39;00m _is_indexed_like(res, group_axes, axis):\n\u001b[1;32m    763\u001b[0m     mutated \u001b[38;5;241m=\u001b[39m \u001b[38;5;28;01mTrue\u001b[39;00m\n",
      "Input \u001b[0;32mIn [120]\u001b[0m, in \u001b[0;36mg\u001b[0;34m(a)\u001b[0m\n\u001b[1;32m      7\u001b[0m         \u001b[38;5;28;01mglobal\u001b[39;00m b\n\u001b[1;32m      8\u001b[0m         b \u001b[38;5;241m=\u001b[39m a\n\u001b[0;32m----> 9\u001b[0m         \u001b[38;5;28;01massert\u001b[39;00m \u001b[38;5;28;01mFalse\u001b[39;00m \n\u001b[1;32m     10\u001b[0m \u001b[38;5;28;01mreturn\u001b[39;00m \u001b[38;5;241m0\u001b[39m\n",
      "\u001b[0;31mAssertionError\u001b[0m: "
     ]
    }
   ],
   "source": [
    "df_test = df[test_index]\n",
    "df_test = df_test.sort_values(by=['problem_id', 'cls_student_id', 'attempts_date_created', 'is_solved'])\n",
    "df_test = df_test.groupby(by=['problem_id', 'cls_student_id']).apply(g)"
   ]
  },
  {
   "cell_type": "code",
   "execution_count": 125,
   "id": "7f4587ee",
   "metadata": {},
   "outputs": [
    {
     "data": {
      "text/html": [
       "<div>\n",
       "<style scoped>\n",
       "    .dataframe tbody tr th:only-of-type {\n",
       "        vertical-align: middle;\n",
       "    }\n",
       "\n",
       "    .dataframe tbody tr th {\n",
       "        vertical-align: top;\n",
       "    }\n",
       "\n",
       "    .dataframe thead th {\n",
       "        text-align: right;\n",
       "    }\n",
       "</style>\n",
       "<table border=\"1\" class=\"dataframe\">\n",
       "  <thead>\n",
       "    <tr style=\"text-align: right;\">\n",
       "      <th></th>\n",
       "      <th>assignment_level</th>\n",
       "      <th>attempts_date_created</th>\n",
       "      <th>cl_date_assignment</th>\n",
       "      <th>cl_id</th>\n",
       "      <th>cls_date_created</th>\n",
       "      <th>cls_student_id</th>\n",
       "      <th>course_id</th>\n",
       "      <th>is_solved</th>\n",
       "      <th>problem_id</th>\n",
       "      <th>subject_slug</th>\n",
       "      <th>team_id</th>\n",
       "      <th>team_level</th>\n",
       "      <th>tp_teacher_id</th>\n",
       "    </tr>\n",
       "  </thead>\n",
       "  <tbody>\n",
       "    <tr>\n",
       "      <th>5103042</th>\n",
       "      <td>3</td>\n",
       "      <td>2022-04-08 17:47:21+03:00</td>\n",
       "      <td>2022-04-08 13:34:41.357428+03:00</td>\n",
       "      <td>75609039</td>\n",
       "      <td>2022-04-08 17:46:36+03:00</td>\n",
       "      <td>1525081</td>\n",
       "      <td>5096090</td>\n",
       "      <td>1</td>\n",
       "      <td>32058</td>\n",
       "      <td>mathematics</td>\n",
       "      <td>76711</td>\n",
       "      <td>4</td>\n",
       "      <td>502557</td>\n",
       "    </tr>\n",
       "    <tr>\n",
       "      <th>59258</th>\n",
       "      <td>3</td>\n",
       "      <td>2022-04-16 07:01:31+03:00</td>\n",
       "      <td>2022-04-15 13:28:07.506886+03:00</td>\n",
       "      <td>77019744</td>\n",
       "      <td>2022-04-16 07:00:50+03:00</td>\n",
       "      <td>1525081</td>\n",
       "      <td>5096090</td>\n",
       "      <td>0</td>\n",
       "      <td>32058</td>\n",
       "      <td>mathematics</td>\n",
       "      <td>76711</td>\n",
       "      <td>4</td>\n",
       "      <td>502557</td>\n",
       "    </tr>\n",
       "    <tr>\n",
       "      <th>1561490</th>\n",
       "      <td>3</td>\n",
       "      <td>2022-04-16 07:01:39+03:00</td>\n",
       "      <td>2022-04-15 13:28:07.506886+03:00</td>\n",
       "      <td>77019744</td>\n",
       "      <td>2022-04-16 07:00:50+03:00</td>\n",
       "      <td>1525081</td>\n",
       "      <td>5096090</td>\n",
       "      <td>1</td>\n",
       "      <td>32058</td>\n",
       "      <td>mathematics</td>\n",
       "      <td>76711</td>\n",
       "      <td>4</td>\n",
       "      <td>502557</td>\n",
       "    </tr>\n",
       "  </tbody>\n",
       "</table>\n",
       "</div>"
      ],
      "text/plain": [
       "         assignment_level     attempts_date_created  \\\n",
       "5103042                 3 2022-04-08 17:47:21+03:00   \n",
       "59258                   3 2022-04-16 07:01:31+03:00   \n",
       "1561490                 3 2022-04-16 07:01:39+03:00   \n",
       "\n",
       "                      cl_date_assignment     cl_id          cls_date_created  \\\n",
       "5103042 2022-04-08 13:34:41.357428+03:00  75609039 2022-04-08 17:46:36+03:00   \n",
       "59258   2022-04-15 13:28:07.506886+03:00  77019744 2022-04-16 07:00:50+03:00   \n",
       "1561490 2022-04-15 13:28:07.506886+03:00  77019744 2022-04-16 07:00:50+03:00   \n",
       "\n",
       "         cls_student_id  course_id  is_solved  problem_id subject_slug  \\\n",
       "5103042         1525081    5096090          1       32058  mathematics   \n",
       "59258           1525081    5096090          0       32058  mathematics   \n",
       "1561490         1525081    5096090          1       32058  mathematics   \n",
       "\n",
       "         team_id  team_level  tp_teacher_id  \n",
       "5103042    76711           4         502557  \n",
       "59258      76711           4         502557  \n",
       "1561490    76711           4         502557  "
      ]
     },
     "execution_count": 125,
     "metadata": {},
     "output_type": "execute_result"
    }
   ],
   "source": [
    "b"
   ]
  },
  {
   "cell_type": "code",
   "execution_count": 128,
   "id": "83910bf4",
   "metadata": {},
   "outputs": [
    {
     "data": {
      "text/html": [
       "<div>\n",
       "<style scoped>\n",
       "    .dataframe tbody tr th:only-of-type {\n",
       "        vertical-align: middle;\n",
       "    }\n",
       "\n",
       "    .dataframe tbody tr th {\n",
       "        vertical-align: top;\n",
       "    }\n",
       "\n",
       "    .dataframe thead th {\n",
       "        text-align: right;\n",
       "    }\n",
       "</style>\n",
       "<table border=\"1\" class=\"dataframe\">\n",
       "  <thead>\n",
       "    <tr style=\"text-align: right;\">\n",
       "      <th></th>\n",
       "      <th>cl_date_assignment</th>\n",
       "      <th>attempts_date_created</th>\n",
       "      <th>problem_id</th>\n",
       "      <th>cls_student_id</th>\n",
       "      <th>is_solved</th>\n",
       "    </tr>\n",
       "  </thead>\n",
       "  <tbody>\n",
       "    <tr>\n",
       "      <th>5103042</th>\n",
       "      <td>2022-04-08 13:34:41.357428+03:00</td>\n",
       "      <td>2022-04-08 17:47:21+03:00</td>\n",
       "      <td>32058</td>\n",
       "      <td>1525081</td>\n",
       "      <td>1</td>\n",
       "    </tr>\n",
       "    <tr>\n",
       "      <th>59258</th>\n",
       "      <td>2022-04-15 13:28:07.506886+03:00</td>\n",
       "      <td>2022-04-16 07:01:31+03:00</td>\n",
       "      <td>32058</td>\n",
       "      <td>1525081</td>\n",
       "      <td>0</td>\n",
       "    </tr>\n",
       "    <tr>\n",
       "      <th>1561490</th>\n",
       "      <td>2022-04-15 13:28:07.506886+03:00</td>\n",
       "      <td>2022-04-16 07:01:39+03:00</td>\n",
       "      <td>32058</td>\n",
       "      <td>1525081</td>\n",
       "      <td>1</td>\n",
       "    </tr>\n",
       "  </tbody>\n",
       "</table>\n",
       "</div>"
      ],
      "text/plain": [
       "                      cl_date_assignment     attempts_date_created  \\\n",
       "5103042 2022-04-08 13:34:41.357428+03:00 2022-04-08 17:47:21+03:00   \n",
       "59258   2022-04-15 13:28:07.506886+03:00 2022-04-16 07:01:31+03:00   \n",
       "1561490 2022-04-15 13:28:07.506886+03:00 2022-04-16 07:01:39+03:00   \n",
       "\n",
       "         problem_id  cls_student_id  is_solved  \n",
       "5103042       32058         1525081          1  \n",
       "59258         32058         1525081          0  \n",
       "1561490       32058         1525081          1  "
      ]
     },
     "execution_count": 128,
     "metadata": {},
     "output_type": "execute_result"
    }
   ],
   "source": [
    "b[['cl_date_assignment', 'attempts_date_created','problem_id', 'cls_student_id', 'is_solved']]"
   ]
  },
  {
   "cell_type": "code",
   "execution_count": null,
   "id": "8ce18a09",
   "metadata": {},
   "outputs": [],
   "source": []
  }
 ],
 "metadata": {
  "kernelspec": {
   "display_name": "Python 3 (ipykernel)",
   "language": "python",
   "name": "python3"
  },
  "language_info": {
   "codemirror_mode": {
    "name": "ipython",
    "version": 3
   },
   "file_extension": ".py",
   "mimetype": "text/x-python",
   "name": "python",
   "nbconvert_exporter": "python",
   "pygments_lexer": "ipython3",
   "version": "3.10.6"
  }
 },
 "nbformat": 4,
 "nbformat_minor": 5
}
