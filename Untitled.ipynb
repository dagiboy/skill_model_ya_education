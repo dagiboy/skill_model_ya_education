{
 "cells": [
  {
   "cell_type": "code",
   "execution_count": 1,
   "id": "8941c36e",
   "metadata": {},
   "outputs": [],
   "source": [
    "import pandas as pd"
   ]
  },
  {
   "cell_type": "code",
   "execution_count": 2,
   "id": "b66aca5b",
   "metadata": {},
   "outputs": [],
   "source": [
    "date_cols = ['attempts_date_created', 'cl_date_assignment', 'cls_date_created']\n",
    "df = pd.read_csv('wide_math.csv', parse_dates=date_cols, index_col=False)"
   ]
  },
  {
   "cell_type": "code",
   "execution_count": 9,
   "id": "94927258",
   "metadata": {},
   "outputs": [],
   "source": [
    "df['attempts_date_created'] = df['attempts_date_created'].dt.floor('s')\n",
    "df.to_csv('wide_math.csv')"
   ]
  },
  {
   "cell_type": "code",
   "execution_count": 3,
   "id": "8627fbe1",
   "metadata": {},
   "outputs": [
    {
     "data": {
      "text/html": [
       "<div>\n",
       "<style scoped>\n",
       "    .dataframe tbody tr th:only-of-type {\n",
       "        vertical-align: middle;\n",
       "    }\n",
       "\n",
       "    .dataframe tbody tr th {\n",
       "        vertical-align: top;\n",
       "    }\n",
       "\n",
       "    .dataframe thead th {\n",
       "        text-align: right;\n",
       "    }\n",
       "</style>\n",
       "<table border=\"1\" class=\"dataframe\">\n",
       "  <thead>\n",
       "    <tr style=\"text-align: right;\">\n",
       "      <th></th>\n",
       "      <th>assignment_level</th>\n",
       "      <th>attempts_date_created</th>\n",
       "      <th>cl_date_assignment</th>\n",
       "      <th>cl_id</th>\n",
       "      <th>cls_date_created</th>\n",
       "      <th>cls_student_id</th>\n",
       "      <th>course_id</th>\n",
       "      <th>is_solved</th>\n",
       "      <th>problem_id</th>\n",
       "      <th>subject_slug</th>\n",
       "      <th>team_id</th>\n",
       "      <th>team_level</th>\n",
       "      <th>tp_teacher_id</th>\n",
       "    </tr>\n",
       "  </thead>\n",
       "  <tbody>\n",
       "    <tr>\n",
       "      <th>0</th>\n",
       "      <td>3</td>\n",
       "      <td>2022-03-08 11:02:37.137077+03:00</td>\n",
       "      <td>2022-03-05 13:00:00+03:00</td>\n",
       "      <td>71374307</td>\n",
       "      <td>2022-03-08 10:52:43.421971+03:00</td>\n",
       "      <td>1650006</td>\n",
       "      <td>5096626</td>\n",
       "      <td>1</td>\n",
       "      <td>97304</td>\n",
       "      <td>mathematics</td>\n",
       "      <td>82516</td>\n",
       "      <td>4</td>\n",
       "      <td>520541</td>\n",
       "    </tr>\n",
       "    <tr>\n",
       "      <th>1</th>\n",
       "      <td>3</td>\n",
       "      <td>2022-03-08 11:02:49.051127+03:00</td>\n",
       "      <td>2021-09-02 14:23:50+03:00</td>\n",
       "      <td>70879797</td>\n",
       "      <td>2022-03-08 11:02:08.385070+03:00</td>\n",
       "      <td>1494142</td>\n",
       "      <td>5099807</td>\n",
       "      <td>1</td>\n",
       "      <td>227546</td>\n",
       "      <td>mathematics</td>\n",
       "      <td>69290</td>\n",
       "      <td>4</td>\n",
       "      <td>615530</td>\n",
       "    </tr>\n",
       "  </tbody>\n",
       "</table>\n",
       "</div>"
      ],
      "text/plain": [
       "   assignment_level            attempts_date_created  \\\n",
       "0                 3 2022-03-08 11:02:37.137077+03:00   \n",
       "1                 3 2022-03-08 11:02:49.051127+03:00   \n",
       "\n",
       "         cl_date_assignment     cl_id                 cls_date_created  \\\n",
       "0 2022-03-05 13:00:00+03:00  71374307 2022-03-08 10:52:43.421971+03:00   \n",
       "1 2021-09-02 14:23:50+03:00  70879797 2022-03-08 11:02:08.385070+03:00   \n",
       "\n",
       "   cls_student_id  course_id  is_solved  problem_id subject_slug  team_id  \\\n",
       "0         1650006    5096626          1       97304  mathematics    82516   \n",
       "1         1494142    5099807          1      227546  mathematics    69290   \n",
       "\n",
       "   team_level  tp_teacher_id  \n",
       "0           4         520541  \n",
       "1           4         615530  "
      ]
     },
     "execution_count": 3,
     "metadata": {},
     "output_type": "execute_result"
    }
   ],
   "source": [
    "df.head(2)"
   ]
  },
  {
   "cell_type": "markdown",
   "id": "497afb02",
   "metadata": {},
   "source": [
    "- assignment_level - класс, когда он решал\n",
    "- attempts_date_created - время поптыки\n",
    "- cl_date_assigment - время выдачи задачи\n",
    "- cl-id - id урока, который выдан студентам этого класса. урок - набор карточек, который выдал учитель.\n",
    "- cls_date_created - когда приступил к уроку\n",
    "- cls_student_id - id ученика\n",
    "- course_id - id курса (предмет-учитель-assignment_level)\n",
    "- is_solved - решена ли задача\n",
    "- problem-id - id задачи\n",
    "- subject_slug - предмет\n",
    "- team-id - id класса\n",
    "- team_level - текущик класс ученика\n",
    "- tp_teacher_id - id препода"
   ]
  },
  {
   "cell_type": "markdown",
   "id": "9682f352",
   "metadata": {},
   "source": []
  },
  {
   "cell_type": "code",
   "execution_count": 17,
   "id": "9cd4fd76",
   "metadata": {},
   "outputs": [],
   "source": [
    "mark_up_math = pd.read_excel('markup_math.xlsx')\n",
    "mark_up_math= mark_up_math[1:]"
   ]
  },
  {
   "cell_type": "code",
   "execution_count": 18,
   "id": "94cd06cb",
   "metadata": {},
   "outputs": [
    {
     "data": {
      "text/html": [
       "<div>\n",
       "<style scoped>\n",
       "    .dataframe tbody tr th:only-of-type {\n",
       "        vertical-align: middle;\n",
       "    }\n",
       "\n",
       "    .dataframe tbody tr th {\n",
       "        vertical-align: top;\n",
       "    }\n",
       "\n",
       "    .dataframe thead th {\n",
       "        text-align: right;\n",
       "    }\n",
       "</style>\n",
       "<table border=\"1\" class=\"dataframe\">\n",
       "  <thead>\n",
       "    <tr style=\"text-align: right;\">\n",
       "      <th></th>\n",
       "      <th>attributes</th>\n",
       "      <th>limits</th>\n",
       "      <th>problem_id</th>\n",
       "      <th>skills</th>\n",
       "      <th>stack_id</th>\n",
       "      <th>units</th>\n",
       "    </tr>\n",
       "  </thead>\n",
       "  <tbody>\n",
       "    <tr>\n",
       "      <th>1</th>\n",
       "      <td>NaN</td>\n",
       "      <td>В пределах 20</td>\n",
       "      <td>78236</td>\n",
       "      <td>решать задачи на нахождение числа элементов  п...</td>\n",
       "      <td>27125</td>\n",
       "      <td>NaN</td>\n",
       "    </tr>\n",
       "    <tr>\n",
       "      <th>2</th>\n",
       "      <td>NaN</td>\n",
       "      <td>В пределах 20</td>\n",
       "      <td>78236</td>\n",
       "      <td>сравнивать/упорядочивать числа меньшие или рав...</td>\n",
       "      <td>27125</td>\n",
       "      <td>NaN</td>\n",
       "    </tr>\n",
       "    <tr>\n",
       "      <th>3</th>\n",
       "      <td>NaN</td>\n",
       "      <td>В пределах 20</td>\n",
       "      <td>78236</td>\n",
       "      <td>\\nрешать задачи на упорядочивание множеств /ве...</td>\n",
       "      <td>27125</td>\n",
       "      <td>NaN</td>\n",
       "    </tr>\n",
       "    <tr>\n",
       "      <th>4</th>\n",
       "      <td>NaN</td>\n",
       "      <td>NaN</td>\n",
       "      <td>60086</td>\n",
       "      <td>находить долю величины (половина, треть, четве...</td>\n",
       "      <td>27086</td>\n",
       "      <td>NaN</td>\n",
       "    </tr>\n",
       "  </tbody>\n",
       "</table>\n",
       "</div>"
      ],
      "text/plain": [
       "  attributes         limits problem_id  \\\n",
       "1        NaN  В пределах 20      78236   \n",
       "2        NaN  В пределах 20      78236   \n",
       "3        NaN  В пределах 20      78236   \n",
       "4        NaN            NaN      60086   \n",
       "\n",
       "                                              skills stack_id units  \n",
       "1  решать задачи на нахождение числа элементов  п...    27125   NaN  \n",
       "2  сравнивать/упорядочивать числа меньшие или рав...    27125   NaN  \n",
       "3  \\nрешать задачи на упорядочивание множеств /ве...    27125   NaN  \n",
       "4  находить долю величины (половина, треть, четве...    27086   NaN  "
      ]
     },
     "execution_count": 18,
     "metadata": {},
     "output_type": "execute_result"
    }
   ],
   "source": [
    "mark_up_math.head(4)"
   ]
  },
  {
   "cell_type": "code",
   "execution_count": 19,
   "id": "a8884a89",
   "metadata": {},
   "outputs": [
    {
     "data": {
      "text/plain": [
       "1         [решать задачи на нахождение числа элементов  ...\n",
       "2         [сравнивать/упорядочивать числа меньшие или ра...\n",
       "3         [, решать задачи на упорядочивание множеств /в...\n",
       "4         [находить долю величины (половина, треть, четв...\n",
       "5         [решать логические  задачи с использованием  п...\n",
       "                                ...                        \n",
       "109076    [находить способ решения нестандартной арифмет...\n",
       "109077    [находить способ решения нестандартной арифмет...\n",
       "109078    [решать логические задачи  без предложенной мо...\n",
       "109079                    [различать понятие числа и цифры]\n",
       "109080    [находить способ решения нестандартной арифмет...\n",
       "Name: skills, Length: 109080, dtype: object"
      ]
     },
     "execution_count": 19,
     "metadata": {},
     "output_type": "execute_result"
    }
   ],
   "source": [
    "mark_up_math['skills'].str.split('\\n')"
   ]
  },
  {
   "cell_type": "code",
   "execution_count": null,
   "id": "e3591a9e",
   "metadata": {},
   "outputs": [],
   "source": []
  }
 ],
 "metadata": {
  "kernelspec": {
   "display_name": "Python 3 (ipykernel)",
   "language": "python",
   "name": "python3"
  },
  "language_info": {
   "codemirror_mode": {
    "name": "ipython",
    "version": 3
   },
   "file_extension": ".py",
   "mimetype": "text/x-python",
   "name": "python",
   "nbconvert_exporter": "python",
   "pygments_lexer": "ipython3",
   "version": "3.10.6"
  }
 },
 "nbformat": 4,
 "nbformat_minor": 5
}
