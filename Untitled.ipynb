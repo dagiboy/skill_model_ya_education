{
 "cells": [
  {
   "cell_type": "code",
   "execution_count": 234,
   "id": "8941c36e",
   "metadata": {},
   "outputs": [
    {
     "data": {
      "text/plain": [
       "'cuda'"
      ]
     },
     "execution_count": 234,
     "metadata": {},
     "output_type": "execute_result"
    }
   ],
   "source": [
    "import pandas as pd\n",
    "import numpy as np\n",
    "import torch\n",
    "from torch import nn\n",
    "from torch.utils.data import DataLoader, Dataset\n",
    "from tqdm import tqdm\n",
    "\n",
    "DEVICE = 'cuda' if torch.cuda.is_available() else 'cpu'\n",
    "DEVICE"
   ]
  },
  {
   "cell_type": "code",
   "execution_count": 148,
   "id": "b66aca5b",
   "metadata": {},
   "outputs": [],
   "source": [
    "date_cols = ['attempts_date_created', 'cl_date_assignment', 'cls_date_created']\n",
    "df = pd.read_csv('wide_math.csv', parse_dates=date_cols, index_col=False)"
   ]
  },
  {
   "cell_type": "code",
   "execution_count": 11,
   "id": "72139049",
   "metadata": {},
   "outputs": [],
   "source": [
    "df['attempts_date_created'] = df['attempts_date_created'].dt.floor('s')\n",
    "df['cls_date_created'] = df['cls_date_created'].dt.floor('s')"
   ]
  },
  {
   "cell_type": "code",
   "execution_count": 4,
   "id": "94927258",
   "metadata": {},
   "outputs": [],
   "source": [
    "df.to_csv('wide_math.csv', index=False)"
   ]
  },
  {
   "cell_type": "code",
   "execution_count": 9,
   "id": "8627fbe1",
   "metadata": {},
   "outputs": [],
   "source": [
    "df.drop(['Unnamed: 0.1', 'Unnamed: 0'], axis=1).to_csv('wide_math.csv', index=False)"
   ]
  },
  {
   "cell_type": "code",
   "execution_count": 149,
   "id": "e6a1614c",
   "metadata": {},
   "outputs": [
    {
     "data": {
      "text/html": [
       "<div>\n",
       "<style scoped>\n",
       "    .dataframe tbody tr th:only-of-type {\n",
       "        vertical-align: middle;\n",
       "    }\n",
       "\n",
       "    .dataframe tbody tr th {\n",
       "        vertical-align: top;\n",
       "    }\n",
       "\n",
       "    .dataframe thead th {\n",
       "        text-align: right;\n",
       "    }\n",
       "</style>\n",
       "<table border=\"1\" class=\"dataframe\">\n",
       "  <thead>\n",
       "    <tr style=\"text-align: right;\">\n",
       "      <th></th>\n",
       "      <th>Unnamed: 0.1</th>\n",
       "      <th>Unnamed: 0</th>\n",
       "      <th>assignment_level</th>\n",
       "      <th>attempts_date_created</th>\n",
       "      <th>cl_date_assignment</th>\n",
       "      <th>cl_id</th>\n",
       "      <th>cls_date_created</th>\n",
       "      <th>cls_student_id</th>\n",
       "      <th>course_id</th>\n",
       "      <th>is_solved</th>\n",
       "      <th>problem_id</th>\n",
       "      <th>subject_slug</th>\n",
       "      <th>team_id</th>\n",
       "      <th>team_level</th>\n",
       "      <th>tp_teacher_id</th>\n",
       "    </tr>\n",
       "  </thead>\n",
       "  <tbody>\n",
       "    <tr>\n",
       "      <th>0</th>\n",
       "      <td>0</td>\n",
       "      <td>0</td>\n",
       "      <td>3</td>\n",
       "      <td>2022-03-08 11:02:37+03:00</td>\n",
       "      <td>2022-03-05 13:00:00+03:00</td>\n",
       "      <td>71374307</td>\n",
       "      <td>2022-03-08 10:52:43+03:00</td>\n",
       "      <td>1650006</td>\n",
       "      <td>5096626</td>\n",
       "      <td>1</td>\n",
       "      <td>97304</td>\n",
       "      <td>mathematics</td>\n",
       "      <td>82516</td>\n",
       "      <td>4</td>\n",
       "      <td>520541</td>\n",
       "    </tr>\n",
       "    <tr>\n",
       "      <th>1</th>\n",
       "      <td>1</td>\n",
       "      <td>1</td>\n",
       "      <td>3</td>\n",
       "      <td>2022-03-08 11:02:49+03:00</td>\n",
       "      <td>2021-09-02 14:23:50+03:00</td>\n",
       "      <td>70879797</td>\n",
       "      <td>2022-03-08 11:02:08+03:00</td>\n",
       "      <td>1494142</td>\n",
       "      <td>5099807</td>\n",
       "      <td>1</td>\n",
       "      <td>227546</td>\n",
       "      <td>mathematics</td>\n",
       "      <td>69290</td>\n",
       "      <td>4</td>\n",
       "      <td>615530</td>\n",
       "    </tr>\n",
       "  </tbody>\n",
       "</table>\n",
       "</div>"
      ],
      "text/plain": [
       "   Unnamed: 0.1  Unnamed: 0  assignment_level     attempts_date_created  \\\n",
       "0             0           0                 3 2022-03-08 11:02:37+03:00   \n",
       "1             1           1                 3 2022-03-08 11:02:49+03:00   \n",
       "\n",
       "         cl_date_assignment     cl_id          cls_date_created  \\\n",
       "0 2022-03-05 13:00:00+03:00  71374307 2022-03-08 10:52:43+03:00   \n",
       "1 2021-09-02 14:23:50+03:00  70879797 2022-03-08 11:02:08+03:00   \n",
       "\n",
       "   cls_student_id  course_id  is_solved  problem_id subject_slug  team_id  \\\n",
       "0         1650006    5096626          1       97304  mathematics    82516   \n",
       "1         1494142    5099807          1      227546  mathematics    69290   \n",
       "\n",
       "   team_level  tp_teacher_id  \n",
       "0           4         520541  \n",
       "1           4         615530  "
      ]
     },
     "execution_count": 149,
     "metadata": {},
     "output_type": "execute_result"
    }
   ],
   "source": [
    "df.head(2)"
   ]
  },
  {
   "cell_type": "markdown",
   "id": "497afb02",
   "metadata": {},
   "source": [
    "- assignment_level - класс, когда он решал\n",
    "- attempts_date_created - время поптыки\n",
    "- cl_date_assigment - время выдачи задачи\n",
    "- cl-id - id урока, который выдан студентам этого класса. урок - набор карточек, который выдал учитель.\n",
    "- cls_date_created - когда приступил к уроку\n",
    "- cls_student_id - id ученика\n",
    "- course_id - id курса (предмет-учитель-assignment_level)\n",
    "- is_solved - решена ли задача\n",
    "- problem-id - id задачи\n",
    "- subject_slug - предмет\n",
    "- team-id - id класса\n",
    "- team_level - текущик класс ученика\n",
    "- tp_teacher_id - id препода"
   ]
  },
  {
   "cell_type": "code",
   "execution_count": 150,
   "id": "9cd4fd76",
   "metadata": {},
   "outputs": [],
   "source": [
    "mark_up_math = pd.read_excel('markup_math.xlsx')\n",
    "mark_up_math= mark_up_math[1:]"
   ]
  },
  {
   "cell_type": "code",
   "execution_count": 151,
   "id": "94cd06cb",
   "metadata": {},
   "outputs": [
    {
     "data": {
      "text/html": [
       "<div>\n",
       "<style scoped>\n",
       "    .dataframe tbody tr th:only-of-type {\n",
       "        vertical-align: middle;\n",
       "    }\n",
       "\n",
       "    .dataframe tbody tr th {\n",
       "        vertical-align: top;\n",
       "    }\n",
       "\n",
       "    .dataframe thead th {\n",
       "        text-align: right;\n",
       "    }\n",
       "</style>\n",
       "<table border=\"1\" class=\"dataframe\">\n",
       "  <thead>\n",
       "    <tr style=\"text-align: right;\">\n",
       "      <th></th>\n",
       "      <th>attributes</th>\n",
       "      <th>limits</th>\n",
       "      <th>problem_id</th>\n",
       "      <th>skills</th>\n",
       "      <th>stack_id</th>\n",
       "      <th>units</th>\n",
       "    </tr>\n",
       "  </thead>\n",
       "  <tbody>\n",
       "    <tr>\n",
       "      <th>1</th>\n",
       "      <td>NaN</td>\n",
       "      <td>В пределах 20</td>\n",
       "      <td>78236</td>\n",
       "      <td>решать задачи на нахождение числа элементов  п...</td>\n",
       "      <td>27125</td>\n",
       "      <td>NaN</td>\n",
       "    </tr>\n",
       "    <tr>\n",
       "      <th>2</th>\n",
       "      <td>NaN</td>\n",
       "      <td>В пределах 20</td>\n",
       "      <td>78236</td>\n",
       "      <td>сравнивать/упорядочивать числа меньшие или рав...</td>\n",
       "      <td>27125</td>\n",
       "      <td>NaN</td>\n",
       "    </tr>\n",
       "    <tr>\n",
       "      <th>3</th>\n",
       "      <td>NaN</td>\n",
       "      <td>В пределах 20</td>\n",
       "      <td>78236</td>\n",
       "      <td>\\nрешать задачи на упорядочивание множеств /ве...</td>\n",
       "      <td>27125</td>\n",
       "      <td>NaN</td>\n",
       "    </tr>\n",
       "    <tr>\n",
       "      <th>4</th>\n",
       "      <td>NaN</td>\n",
       "      <td>NaN</td>\n",
       "      <td>60086</td>\n",
       "      <td>находить долю величины (половина, треть, четве...</td>\n",
       "      <td>27086</td>\n",
       "      <td>NaN</td>\n",
       "    </tr>\n",
       "  </tbody>\n",
       "</table>\n",
       "</div>"
      ],
      "text/plain": [
       "  attributes         limits problem_id  \\\n",
       "1        NaN  В пределах 20      78236   \n",
       "2        NaN  В пределах 20      78236   \n",
       "3        NaN  В пределах 20      78236   \n",
       "4        NaN            NaN      60086   \n",
       "\n",
       "                                              skills stack_id units  \n",
       "1  решать задачи на нахождение числа элементов  п...    27125   NaN  \n",
       "2  сравнивать/упорядочивать числа меньшие или рав...    27125   NaN  \n",
       "3  \\nрешать задачи на упорядочивание множеств /ве...    27125   NaN  \n",
       "4  находить долю величины (половина, треть, четве...    27086   NaN  "
      ]
     },
     "execution_count": 151,
     "metadata": {},
     "output_type": "execute_result"
    }
   ],
   "source": [
    "mark_up_math.head(4) # очень грязные данные(((("
   ]
  },
  {
   "cell_type": "code",
   "execution_count": 152,
   "id": "a894d00e",
   "metadata": {},
   "outputs": [],
   "source": [
    "med_date = df['attempts_date_created'].median()\n",
    "med_user = df['cls_student_id'].median()"
   ]
  },
  {
   "cell_type": "code",
   "execution_count": 153,
   "id": "a83d3525",
   "metadata": {},
   "outputs": [],
   "source": [
    "post_df = df[df['attempts_date_created'] > med_date]\n",
    "before_df = df[df['attempts_date_created'] <= med_date]"
   ]
  },
  {
   "cell_type": "code",
   "execution_count": 154,
   "id": "a175be25",
   "metadata": {},
   "outputs": [
    {
     "data": {
      "text/plain": [
       "0.357354172481161"
      ]
     },
     "execution_count": 154,
     "metadata": {},
     "output_type": "execute_result"
    }
   ],
   "source": [
    "len(set(post_df['problem_id']).difference(before_df['problem_id'])) / len(set(post_df['problem_id']))"
   ]
  },
  {
   "cell_type": "markdown",
   "id": "56bb24d5",
   "metadata": {},
   "source": [
    "Если отсекать по датасет по времени, то есть куча задач, про которые мы не знаем, так как нет информации прошлых лет их решения. Предлагаю делить датасет по времени и пользователям и взять 1/4 от датасета для валидации"
   ]
  },
  {
   "cell_type": "code",
   "execution_count": 155,
   "id": "44a184e3",
   "metadata": {},
   "outputs": [],
   "source": [
    "test_index = (df['cls_student_id'] > med_user) & (df['attempts_date_created'] > med_date)\n",
    "train_index = ~test_index"
   ]
  },
  {
   "cell_type": "code",
   "execution_count": 156,
   "id": "cb318e66",
   "metadata": {},
   "outputs": [],
   "source": [
    "def get_matr(data):\n",
    "    data = data.sort_values(by=['problem_id', 'cls_student_id', 'attempts_date_created'])\n",
    "    return data.groupby(by=['problem_id', 'cls_student_id'], as_index=False)['is_solved'].first()"
   ]
  },
  {
   "cell_type": "code",
   "execution_count": 157,
   "id": "467bb6e2",
   "metadata": {},
   "outputs": [
    {
     "name": "stdout",
     "output_type": "stream",
     "text": [
      "(3003185, 3)\n",
      "(1005800, 3)\n"
     ]
    },
    {
     "data": {
      "text/html": [
       "<div>\n",
       "<style scoped>\n",
       "    .dataframe tbody tr th:only-of-type {\n",
       "        vertical-align: middle;\n",
       "    }\n",
       "\n",
       "    .dataframe tbody tr th {\n",
       "        vertical-align: top;\n",
       "    }\n",
       "\n",
       "    .dataframe thead th {\n",
       "        text-align: right;\n",
       "    }\n",
       "</style>\n",
       "<table border=\"1\" class=\"dataframe\">\n",
       "  <thead>\n",
       "    <tr style=\"text-align: right;\">\n",
       "      <th></th>\n",
       "      <th>problem_id</th>\n",
       "      <th>cls_student_id</th>\n",
       "      <th>is_solved</th>\n",
       "    </tr>\n",
       "  </thead>\n",
       "  <tbody>\n",
       "    <tr>\n",
       "      <th>0</th>\n",
       "      <td>20000</td>\n",
       "      <td>1550166</td>\n",
       "      <td>0</td>\n",
       "    </tr>\n",
       "    <tr>\n",
       "      <th>1</th>\n",
       "      <td>20000</td>\n",
       "      <td>1550167</td>\n",
       "      <td>1</td>\n",
       "    </tr>\n",
       "    <tr>\n",
       "      <th>2</th>\n",
       "      <td>20000</td>\n",
       "      <td>1550169</td>\n",
       "      <td>1</td>\n",
       "    </tr>\n",
       "  </tbody>\n",
       "</table>\n",
       "</div>"
      ],
      "text/plain": [
       "   problem_id  cls_student_id  is_solved\n",
       "0       20000         1550166          0\n",
       "1       20000         1550167          1\n",
       "2       20000         1550169          1"
      ]
     },
     "execution_count": 157,
     "metadata": {},
     "output_type": "execute_result"
    }
   ],
   "source": [
    "df_train = get_matr(df[train_index])\n",
    "df_test = get_matr(df[test_index])\n",
    "\n",
    "print(df_train.shape)\n",
    "print(df_test.shape)\n",
    "df_train.head(3)"
   ]
  },
  {
   "cell_type": "code",
   "execution_count": 158,
   "id": "dbbddf1b",
   "metadata": {},
   "outputs": [
    {
     "data": {
      "text/plain": [
       "(0.7478247260824757, 0.7262736130443428)"
      ]
     },
     "execution_count": 158,
     "metadata": {},
     "output_type": "execute_result"
    }
   ],
   "source": [
    "df_train['is_solved'].sum() / df_train.shape[0], df_test['is_solved'].sum() / df_test.shape[0]"
   ]
  },
  {
   "cell_type": "markdown",
   "id": "272b5741",
   "metadata": {},
   "source": [
    "Есть разбаланс классов. Ученики чаще решают с первого раза, чем не решают."
   ]
  },
  {
   "cell_type": "code",
   "execution_count": 159,
   "id": "3edabd27",
   "metadata": {},
   "outputs": [
    {
     "data": {
      "text/plain": [
       "0.1368838357393971"
      ]
     },
     "execution_count": 159,
     "metadata": {},
     "output_type": "execute_result"
    }
   ],
   "source": [
    "train_problems = set(df_train['problem_id'])\n",
    "test_problems = set(df_test['problem_id'])\n",
    "\n",
    "\n",
    "len(test_problems.difference(train_problems)) / len(test_problems)"
   ]
  },
  {
   "cell_type": "markdown",
   "id": "b43f7ae3",
   "metadata": {},
   "source": [
    "У нас ещё осталось 13% задач в тестовой выборке, про которые мы ничего не знаем\n",
    "Пока есть предложение на них забить. Тем более это логично забить на задачи, про которые нам ещё ничего не известно.\n",
    "(в дальнейшем есть идея для них эмбединги получать из графа)"
   ]
  },
  {
   "cell_type": "code",
   "execution_count": 160,
   "id": "92df47b9",
   "metadata": {},
   "outputs": [
    {
     "data": {
      "text/plain": [
       "0.0297008547008547"
      ]
     },
     "execution_count": 160,
     "metadata": {},
     "output_type": "execute_result"
    }
   ],
   "source": [
    "train_students = set(df_train['cls_student_id'])\n",
    "test_students = set(df_test['cls_student_id'])\n",
    "\n",
    "len(test_students.difference(train_students)) / len(test_students)"
   ]
  },
  {
   "cell_type": "markdown",
   "id": "1b8d1090",
   "metadata": {},
   "source": [
    "Есть 3 процента пользователей, которые не попали в тестовую выборку. Пока что от них тоже избавимся. У меня есть идеи, как более качественно поделить выборку, но пока напишем базу."
   ]
  },
  {
   "cell_type": "code",
   "execution_count": 161,
   "id": "f1e45ad5",
   "metadata": {},
   "outputs": [
    {
     "data": {
      "text/plain": [
       "(943531, 3)"
      ]
     },
     "execution_count": 161,
     "metadata": {},
     "output_type": "execute_result"
    }
   ],
   "source": [
    "df_test = df_test[df_test['problem_id'].apply(lambda x: x in train_problems)]\n",
    "df_test = df_test[df_test['cls_student_id'].apply(lambda x: x in train_students)]\n",
    "df_test.shape"
   ]
  },
  {
   "cell_type": "code",
   "execution_count": 162,
   "id": "3576ea9d",
   "metadata": {},
   "outputs": [],
   "source": [
    "problems = list(train_problems)\n",
    "problem_to_index = {problem_id: i for i, problem_id in enumerate(problems)}\n",
    "students = list(train_students)\n",
    "student_to_index = {student_id: i for i, student_id in enumerate(students)}"
   ]
  },
  {
   "cell_type": "markdown",
   "id": "55373cd3",
   "metadata": {},
   "source": [
    "Теперь напишем стандарные штуки для обучения (сворую из другого курса)."
   ]
  },
  {
   "cell_type": "code",
   "execution_count": 175,
   "id": "86cf5c52",
   "metadata": {},
   "outputs": [],
   "source": [
    "def get_X_y(data, student_to_index=student_to_index, problem_to_index=problem_to_index):\n",
    "    students = data['cls_student_id'].apply(lambda x:student_to_index[x]).values\n",
    "    problems = data['problem_id'].apply(lambda x:problem_to_index[x]).values\n",
    "    X = torch.tensor(np.array([students, problems]))\n",
    "    y = torch.tensor(data['is_solved'].to_numpy())\n",
    "    return X.transpose(-1, -2), y"
   ]
  },
  {
   "cell_type": "code",
   "execution_count": 191,
   "id": "226f7d52",
   "metadata": {},
   "outputs": [],
   "source": [
    "class StudentsProblemsDataset(Dataset):\n",
    "    def __init__(self, data, student_to_index=student_to_index, problem_to_index=problem_to_index):\n",
    "        students = data['cls_student_id'].apply(lambda x:student_to_index[x]).values\n",
    "        problems = data['problem_id'].apply(lambda x:problem_to_index[x]).values\n",
    "        \n",
    "        self.students = torch.tensor(students)\n",
    "        self.problems = torch.tensor(problems)\n",
    "        self.solved = torch.tensor(data['is_solved'].to_numpy())\n",
    "\n",
    "    def __len__(self):\n",
    "        return len(self.students)\n",
    "\n",
    "    def __getitem__(self, idx):\n",
    "        return self.students[idx], self.problems[idx], self.solved[idx]"
   ]
  },
  {
   "cell_type": "code",
   "execution_count": 192,
   "id": "a2b7a735",
   "metadata": {},
   "outputs": [],
   "source": [
    "train_dataset = StudentsProblemsDataset(df_train)\n",
    "test_dataset = StudentsProblemsDataset(df_test)"
   ]
  },
  {
   "cell_type": "code",
   "execution_count": 236,
   "id": "f08088ba",
   "metadata": {},
   "outputs": [],
   "source": [
    "batch_size=1000000\n",
    "train_dataloader = DataLoader(train_dataset, batch_size=batch_size, shuffle=True, num_workers=12)\n",
    "test_dataloader = DataLoader(test_dataset, batch_size=batch_size, shuffle=True, num_workers=12)"
   ]
  },
  {
   "cell_type": "code",
   "execution_count": 166,
   "id": "8c42d571",
   "metadata": {},
   "outputs": [],
   "source": [
    "from IPython.display import clear_output"
   ]
  },
  {
   "cell_type": "code",
   "execution_count": 240,
   "id": "73c38e9e",
   "metadata": {},
   "outputs": [],
   "source": [
    "class KindOfAlsModel(nn.Module):\n",
    "    def __init__(self, n_students=len(students), n_problems=len(problems), emb_size=16):\n",
    "        super().__init__()\n",
    "        \n",
    "        self.stud_embed = nn.Embedding(n_students, emb_size)\n",
    "        self.problem_embed = nn.Embedding(n_problems, emb_size)\n",
    "        self.tanh = nn.Tanh()\n",
    "        \n",
    "    def forward(self, students, problems):\n",
    "        students = self.stud_embed(students)\n",
    "        problems = self.problem_embed(problems)\n",
    "        \n",
    "        solved = self.tanh(torch.mul(students, problems).sum(dim=1)) / 2 + 0.5\n",
    "        not_solved = 1 - solved\n",
    "        return torch.stack([1-solved, solved]).transpose(-2, -1)"
   ]
  },
  {
   "cell_type": "code",
   "execution_count": 240,
   "id": "c5635887",
   "metadata": {},
   "outputs": [],
   "source": [
    "class MyModel(nn.Module):\n",
    "    def __init__(self, n_students=len(students), n_problems=len(problems), emb_size=16):\n",
    "        super().__init__()\n",
    "        \n",
    "        self.stud_embed = nn.Embedding(n_students, emb_size)\n",
    "        self.problem_embed = nn.Embedding(n_problems, emb_size)\n",
    "        self.tanh = nn.Tanh()\n",
    "        \n",
    "    def forward(self, students, problems):\n",
    "        students = self.stud_embed(students)\n",
    "        problems = self.problem_embed(problems)\n",
    "        \n",
    "        solved = self.tanh(torch.mul(students, problems).sum(dim=1)) / 2 + 0.5\n",
    "        not_solved = 1 - solved\n",
    "        return torch.stack([1-solved, solved]).transpose(-2, -1)"
   ]
  },
  {
   "cell_type": "code",
   "execution_count": 243,
   "id": "01c28527",
   "metadata": {},
   "outputs": [],
   "source": [
    "model = KindOfAlsModel().to(DEVICE)\n",
    "optimizer = torch.optim.Adam(kind_of_als_model.parameters())\n",
    "criterion = nn.CrossEntropyLoss()"
   ]
  },
  {
   "cell_type": "code",
   "execution_count": 242,
   "id": "4040a3c6",
   "metadata": {},
   "outputs": [
    {
     "name": "stderr",
     "output_type": "stream",
     "text": [
      "301it [00:11, 26.82it/s]                                                        \n",
      "95it [00:05, 17.84it/s]                                                         \n"
     ]
    },
    {
     "name": "stdout",
     "output_type": "stream",
     "text": [
      "0.7915473612149556 0.7968905549100105\n"
     ]
    },
    {
     "name": "stderr",
     "output_type": "stream",
     "text": [
      "301it [00:11, 27.14it/s]                                                        \n",
      "95it [00:05, 18.98it/s]                                                         \n"
     ]
    },
    {
     "name": "stdout",
     "output_type": "stream",
     "text": [
      "0.7851381756862005 0.7967650490872403\n"
     ]
    },
    {
     "name": "stderr",
     "output_type": "stream",
     "text": [
      "301it [00:10, 27.49it/s]                                                        \n",
      "95it [00:04, 19.64it/s]                                                         "
     ]
    },
    {
     "name": "stdout",
     "output_type": "stream",
     "text": [
      "0.7787675164143244 0.7967287625404115\n"
     ]
    },
    {
     "name": "stderr",
     "output_type": "stream",
     "text": [
      "\n"
     ]
    }
   ],
   "source": [
    "for epoch in range(3):\n",
    "    train_l = 0\n",
    "    for st, pr, target in tqdm(train_dataloader, total=X_train.shape[0] // batch_size):\n",
    "        optimizer.zero_grad()\n",
    "        \n",
    "        st = st.to(DEVICE)\n",
    "        pr = pr.to(DEVICE)\n",
    "        target = target.to(DEVICE)\n",
    "        \n",
    "        y_pred= model(st, pr)\n",
    "        \n",
    "        loss = criterion(y_pred, target)\n",
    "        loss.backward()\n",
    "        optimizer.step()\n",
    "        \n",
    "        train_l += loss.item()\n",
    "        \n",
    "    train_l /= X_train.shape[0] // batch_size\n",
    "    \n",
    "    test_l = 0\n",
    "        \n",
    "    with torch.no_grad():\n",
    "        for st, pr, target in tqdm(test_dataloader, total=X_test.shape[0] // batch_size):\n",
    "            st = st.to(DEVICE)\n",
    "            pr = pr.to(DEVICE)\n",
    "            target = target.to(DEVICE)\n",
    "\n",
    "            y_pred= model(st, pr)\n",
    "\n",
    "            test_l += criterion(y_pred, target).item()\n",
    "            \n",
    "    test_l /= X_test.shape[0] // batch_size\n",
    "    \n",
    "    print(train_l, test_l)\n",
    "        \n",
    "        \n"
   ]
  },
  {
   "cell_type": "code",
   "execution_count": null,
   "id": "6105d086",
   "metadata": {},
   "outputs": [],
   "source": []
  },
  {
   "cell_type": "code",
   "execution_count": null,
   "id": "230d8f5b",
   "metadata": {},
   "outputs": [],
   "source": []
  }
 ],
 "metadata": {
  "kernelspec": {
   "display_name": "Python 3 (ipykernel)",
   "language": "python",
   "name": "python3"
  },
  "language_info": {
   "codemirror_mode": {
    "name": "ipython",
    "version": 3
   },
   "file_extension": ".py",
   "mimetype": "text/x-python",
   "name": "python",
   "nbconvert_exporter": "python",
   "pygments_lexer": "ipython3",
   "version": "3.10.6"
  }
 },
 "nbformat": 4,
 "nbformat_minor": 5
}
